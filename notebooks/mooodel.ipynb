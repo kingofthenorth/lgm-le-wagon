{
 "cells": [
  {
   "cell_type": "code",
   "execution_count": 1,
   "id": "b27bbf57",
   "metadata": {
    "ExecuteTime": {
     "end_time": "2022-06-02T16:21:58.985885Z",
     "start_time": "2022-06-02T16:21:57.205519Z"
    }
   },
   "outputs": [
    {
     "data": {
      "text/html": [
       "<div>\n",
       "<style scoped>\n",
       "    .dataframe tbody tr th:only-of-type {\n",
       "        vertical-align: middle;\n",
       "    }\n",
       "\n",
       "    .dataframe tbody tr th {\n",
       "        vertical-align: top;\n",
       "    }\n",
       "\n",
       "    .dataframe thead th {\n",
       "        text-align: right;\n",
       "    }\n",
       "</style>\n",
       "<table border=\"1\" class=\"dataframe\">\n",
       "  <thead>\n",
       "    <tr style=\"text-align: right;\">\n",
       "      <th></th>\n",
       "      <th>_id</th>\n",
       "      <th>type</th>\n",
       "      <th>error</th>\n",
       "      <th>status</th>\n",
       "      <th>message</th>\n",
       "      <th>channel</th>\n",
       "      <th>createdat</th>\n",
       "      <th>userid</th>\n",
       "      <th>linkedinlimited</th>\n",
       "      <th>date</th>\n",
       "      <th>...</th>\n",
       "      <th>stepid</th>\n",
       "      <th>identityid</th>\n",
       "      <th>subtype</th>\n",
       "      <th>requeued</th>\n",
       "      <th>reply</th>\n",
       "      <th>duration</th>\n",
       "      <th>templateid</th>\n",
       "      <th>actionid</th>\n",
       "      <th>deleted</th>\n",
       "      <th>success</th>\n",
       "    </tr>\n",
       "  </thead>\n",
       "  <tbody>\n",
       "    <tr>\n",
       "      <th>0</th>\n",
       "      <td>628e7357a0020c26468eeacc</td>\n",
       "      <td>LINKEDIN_ON_REPLY</td>\n",
       "      <td>False</td>\n",
       "      <td>SUCCESS</td>\n",
       "      <td>Replied to DM: true</td>\n",
       "      <td>LINKEDIN</td>\n",
       "      <td>1653502807905</td>\n",
       "      <td>607db83b997db13d4004d74b</td>\n",
       "      <td>False</td>\n",
       "      <td>NaN</td>\n",
       "      <td>...</td>\n",
       "      <td>909ff690-bc1f-439c-8a0c-817f9743d335</td>\n",
       "      <td>615dbcf23e99504c4faa2960</td>\n",
       "      <td>909ff690-bc1f-439c-8a0c-817f9743d335</td>\n",
       "      <td>False</td>\n",
       "      <td>Not something we need. Maybe in 18 months. Tha...</td>\n",
       "      <td>NaN</td>\n",
       "      <td>62798b6f9736365dce4c852e</td>\n",
       "      <td>NaN</td>\n",
       "      <td>False</td>\n",
       "      <td>True</td>\n",
       "    </tr>\n",
       "    <tr>\n",
       "      <th>1</th>\n",
       "      <td>62925729dd8678265fb5e7a7</td>\n",
       "      <td>LINKEDIN_ON_REPLY</td>\n",
       "      <td>False</td>\n",
       "      <td>SUCCESS</td>\n",
       "      <td>Replied to DM: true</td>\n",
       "      <td>LINKEDIN</td>\n",
       "      <td>1653757737452</td>\n",
       "      <td>60409f62d358a074403702b1</td>\n",
       "      <td>False</td>\n",
       "      <td>NaN</td>\n",
       "      <td>...</td>\n",
       "      <td>37c5a2a2-f62a-4326-ac6a-603c83756fbe</td>\n",
       "      <td>62165e8e4ed54d04c1acadad</td>\n",
       "      <td>37c5a2a2-f62a-4326-ac6a-603c83756fbe</td>\n",
       "      <td>False</td>\n",
       "      <td>Bonjour Yohan,  Merci pour votre message. Malh...</td>\n",
       "      <td>NaN</td>\n",
       "      <td>62165f64939d8a2c75db35c2</td>\n",
       "      <td>NaN</td>\n",
       "      <td>False</td>\n",
       "      <td>True</td>\n",
       "    </tr>\n",
       "    <tr>\n",
       "      <th>2</th>\n",
       "      <td>62925729dd8678265fb5e7a8</td>\n",
       "      <td>LINKEDIN_HAS_REPLY</td>\n",
       "      <td>False</td>\n",
       "      <td>SUCCESS</td>\n",
       "      <td>Reply: true - Connect</td>\n",
       "      <td>LINKEDIN</td>\n",
       "      <td>1653757737452</td>\n",
       "      <td>60409f62d358a074403702b1</td>\n",
       "      <td>False</td>\n",
       "      <td>NaN</td>\n",
       "      <td>...</td>\n",
       "      <td>37c5a2a2-f62a-4326-ac6a-603c83756fbe</td>\n",
       "      <td>62165e8e4ed54d04c1acadad</td>\n",
       "      <td>37c5a2a2-f62a-4326-ac6a-603c83756fbe</td>\n",
       "      <td>False</td>\n",
       "      <td>Bonjour Yohan,  Merci pour votre message. Malh...</td>\n",
       "      <td>NaN</td>\n",
       "      <td>62165f64939d8a2c75db35c2</td>\n",
       "      <td>NaN</td>\n",
       "      <td>False</td>\n",
       "      <td>True</td>\n",
       "    </tr>\n",
       "    <tr>\n",
       "      <th>3</th>\n",
       "      <td>62925559ebad282654c1abd9</td>\n",
       "      <td>LINKEDIN_ON_REPLY</td>\n",
       "      <td>False</td>\n",
       "      <td>SUCCESS</td>\n",
       "      <td>Replied to DM: true</td>\n",
       "      <td>LINKEDIN</td>\n",
       "      <td>1653757273534</td>\n",
       "      <td>628fc9ccebad282654bf7337</td>\n",
       "      <td>False</td>\n",
       "      <td>NaN</td>\n",
       "      <td>...</td>\n",
       "      <td>59ae5c2d-961a-4eac-abe3-885652f7630c</td>\n",
       "      <td>628fc9d105f9d3263f7a05d6</td>\n",
       "      <td>59ae5c2d-961a-4eac-abe3-885652f7630c</td>\n",
       "      <td>False</td>\n",
       "      <td>Hi Mayank</td>\n",
       "      <td>NaN</td>\n",
       "      <td>628fce89ebad282654bf77f0</td>\n",
       "      <td>NaN</td>\n",
       "      <td>False</td>\n",
       "      <td>True</td>\n",
       "    </tr>\n",
       "    <tr>\n",
       "      <th>4</th>\n",
       "      <td>62925559ebad282654c1abda</td>\n",
       "      <td>LINKEDIN_HAS_REPLY</td>\n",
       "      <td>False</td>\n",
       "      <td>SUCCESS</td>\n",
       "      <td>Reply: true - Connect</td>\n",
       "      <td>LINKEDIN</td>\n",
       "      <td>1653757273534</td>\n",
       "      <td>628fc9ccebad282654bf7337</td>\n",
       "      <td>False</td>\n",
       "      <td>NaN</td>\n",
       "      <td>...</td>\n",
       "      <td>59ae5c2d-961a-4eac-abe3-885652f7630c</td>\n",
       "      <td>628fc9d105f9d3263f7a05d6</td>\n",
       "      <td>59ae5c2d-961a-4eac-abe3-885652f7630c</td>\n",
       "      <td>False</td>\n",
       "      <td>Hi Mayank</td>\n",
       "      <td>NaN</td>\n",
       "      <td>628fce89ebad282654bf77f0</td>\n",
       "      <td>NaN</td>\n",
       "      <td>False</td>\n",
       "      <td>True</td>\n",
       "    </tr>\n",
       "  </tbody>\n",
       "</table>\n",
       "<p>5 rows × 23 columns</p>\n",
       "</div>"
      ],
      "text/plain": [
       "                        _id                type  error   status  \\\n",
       "0  628e7357a0020c26468eeacc   LINKEDIN_ON_REPLY  False  SUCCESS   \n",
       "1  62925729dd8678265fb5e7a7   LINKEDIN_ON_REPLY  False  SUCCESS   \n",
       "2  62925729dd8678265fb5e7a8  LINKEDIN_HAS_REPLY  False  SUCCESS   \n",
       "3  62925559ebad282654c1abd9   LINKEDIN_ON_REPLY  False  SUCCESS   \n",
       "4  62925559ebad282654c1abda  LINKEDIN_HAS_REPLY  False  SUCCESS   \n",
       "\n",
       "                 message   channel      createdat                    userid  \\\n",
       "0    Replied to DM: true  LINKEDIN  1653502807905  607db83b997db13d4004d74b   \n",
       "1    Replied to DM: true  LINKEDIN  1653757737452  60409f62d358a074403702b1   \n",
       "2  Reply: true - Connect  LINKEDIN  1653757737452  60409f62d358a074403702b1   \n",
       "3    Replied to DM: true  LINKEDIN  1653757273534  628fc9ccebad282654bf7337   \n",
       "4  Reply: true - Connect  LINKEDIN  1653757273534  628fc9ccebad282654bf7337   \n",
       "\n",
       "   linkedinlimited date  ...                                stepid  \\\n",
       "0            False  NaN  ...  909ff690-bc1f-439c-8a0c-817f9743d335   \n",
       "1            False  NaN  ...  37c5a2a2-f62a-4326-ac6a-603c83756fbe   \n",
       "2            False  NaN  ...  37c5a2a2-f62a-4326-ac6a-603c83756fbe   \n",
       "3            False  NaN  ...  59ae5c2d-961a-4eac-abe3-885652f7630c   \n",
       "4            False  NaN  ...  59ae5c2d-961a-4eac-abe3-885652f7630c   \n",
       "\n",
       "                 identityid                               subtype requeued  \\\n",
       "0  615dbcf23e99504c4faa2960  909ff690-bc1f-439c-8a0c-817f9743d335    False   \n",
       "1  62165e8e4ed54d04c1acadad  37c5a2a2-f62a-4326-ac6a-603c83756fbe    False   \n",
       "2  62165e8e4ed54d04c1acadad  37c5a2a2-f62a-4326-ac6a-603c83756fbe    False   \n",
       "3  628fc9d105f9d3263f7a05d6  59ae5c2d-961a-4eac-abe3-885652f7630c    False   \n",
       "4  628fc9d105f9d3263f7a05d6  59ae5c2d-961a-4eac-abe3-885652f7630c    False   \n",
       "\n",
       "                                               reply duration  \\\n",
       "0  Not something we need. Maybe in 18 months. Tha...      NaN   \n",
       "1  Bonjour Yohan,  Merci pour votre message. Malh...      NaN   \n",
       "2  Bonjour Yohan,  Merci pour votre message. Malh...      NaN   \n",
       "3                                          Hi Mayank      NaN   \n",
       "4                                          Hi Mayank      NaN   \n",
       "\n",
       "                 templateid actionid  deleted success  \n",
       "0  62798b6f9736365dce4c852e      NaN    False    True  \n",
       "1  62165f64939d8a2c75db35c2      NaN    False    True  \n",
       "2  62165f64939d8a2c75db35c2      NaN    False    True  \n",
       "3  628fce89ebad282654bf77f0      NaN    False    True  \n",
       "4  628fce89ebad282654bf77f0      NaN    False    True  \n",
       "\n",
       "[5 rows x 23 columns]"
      ]
     },
     "execution_count": 1,
     "metadata": {},
     "output_type": "execute_result"
    }
   ],
   "source": [
    "import pandas as pd\n",
    "\n",
    "data = pd.read_csv(\"raw_data/replies.csv\")\n",
    "data.head()"
   ]
  },
  {
   "cell_type": "code",
   "execution_count": 2,
   "id": "0e206c8d",
   "metadata": {
    "ExecuteTime": {
     "end_time": "2022-06-02T16:21:59.008078Z",
     "start_time": "2022-06-02T16:21:58.993180Z"
    }
   },
   "outputs": [
    {
     "data": {
      "text/plain": [
       "0          Replied to DM: true\n",
       "1          Replied to DM: true\n",
       "2        Reply: true - Connect\n",
       "3          Replied to DM: true\n",
       "4        Reply: true - Connect\n",
       "                 ...          \n",
       "95269    Reply: true - Connect\n",
       "95270             Reply: true \n",
       "95271    Reply: true - Connect\n",
       "95272      Replied to DM: true\n",
       "95273    Reply: true - Connect\n",
       "Name: message, Length: 95274, dtype: object"
      ]
     },
     "execution_count": 2,
     "metadata": {},
     "output_type": "execute_result"
    }
   ],
   "source": [
    "data.message"
   ]
  },
  {
   "cell_type": "code",
   "execution_count": 3,
   "id": "5eb12b70",
   "metadata": {
    "ExecuteTime": {
     "end_time": "2022-06-02T16:21:59.026719Z",
     "start_time": "2022-06-02T16:21:59.017175Z"
    }
   },
   "outputs": [],
   "source": [
    "#to activate when target available\n",
    "\n",
    "#from sklearn import preprocessing\n",
    "\n",
    "#le = preprocessing.LabelEncoder()\n",
    "#data[\"target_encoded\"] =  le.fit_transform(data.target)"
   ]
  },
  {
   "cell_type": "code",
   "execution_count": 4,
   "id": "4e03eafb",
   "metadata": {
    "ExecuteTime": {
     "end_time": "2022-06-02T16:22:05.993173Z",
     "start_time": "2022-06-02T16:21:59.064000Z"
    }
   },
   "outputs": [
    {
     "name": "stderr",
     "output_type": "stream",
     "text": [
      "/Users/pierre/.pyenv/versions/3.8.13/envs/lgm-le-wagon/lib/python3.8/site-packages/tqdm/auto.py:22: TqdmWarning: IProgress not found. Please update jupyter and ipywidgets. See https://ipywidgets.readthedocs.io/en/stable/user_install.html\n",
      "  from .autonotebook import tqdm as notebook_tqdm\n"
     ]
    }
   ],
   "source": [
    "from transformers import AutoTokenizer, AutoModelForSequenceClassification"
   ]
  },
  {
   "cell_type": "code",
   "execution_count": 5,
   "id": "5b4693cb",
   "metadata": {
    "ExecuteTime": {
     "end_time": "2022-06-02T16:22:10.001809Z",
     "start_time": "2022-06-02T16:22:05.997347Z"
    }
   },
   "outputs": [],
   "source": [
    "tokenizer = AutoTokenizer.from_pretrained(\"nlptown/bert-base-multilingual-uncased-sentiment\")"
   ]
  },
  {
   "cell_type": "code",
   "execution_count": 6,
   "id": "b539cbd5",
   "metadata": {
    "ExecuteTime": {
     "end_time": "2022-06-02T16:22:14.625276Z",
     "start_time": "2022-06-02T16:22:10.005684Z"
    }
   },
   "outputs": [],
   "source": [
    "model = AutoModelForSequenceClassification.from_pretrained(\"nlptown/bert-base-multilingual-uncased-sentiment\")"
   ]
  },
  {
   "cell_type": "code",
   "execution_count": 7,
   "id": "2250c5e6",
   "metadata": {
    "ExecuteTime": {
     "end_time": "2022-06-02T16:22:24.552019Z",
     "start_time": "2022-06-02T16:22:14.635260Z"
    }
   },
   "outputs": [
    {
     "name": "stderr",
     "output_type": "stream",
     "text": [
      "2022-06-02 18:22:16.037389: I tensorflow/core/platform/cpu_feature_guard.cc:193] This TensorFlow binary is optimized with oneAPI Deep Neural Network Library (oneDNN) to use the following CPU instructions in performance-critical operations:  AVX2 FMA\n",
      "To enable them in other operations, rebuild TensorFlow with the appropriate compiler flags.\n"
     ]
    }
   ],
   "source": [
    "from transformers import pipeline\n",
    "\n",
    "multilang_classifier = pipeline(\"sentiment-analysis\", \n",
    "                                model=\"nlptown/bert-base-multilingual-uncased-sentiment\")"
   ]
  },
  {
   "cell_type": "code",
   "execution_count": 8,
   "id": "09945209",
   "metadata": {
    "ExecuteTime": {
     "end_time": "2022-06-02T16:22:24.719176Z",
     "start_time": "2022-06-02T16:22:24.557076Z"
    }
   },
   "outputs": [
    {
     "data": {
      "text/plain": [
       "[[{'label': '1 star', 'score': 0.10444572567939758},\n",
       "  {'label': '2 stars', 'score': 0.09467915445566177},\n",
       "  {'label': '3 stars', 'score': 0.2151179015636444},\n",
       "  {'label': '4 stars', 'score': 0.277179479598999},\n",
       "  {'label': '5 stars', 'score': 0.3085777461528778}]]"
      ]
     },
     "execution_count": 8,
     "metadata": {},
     "output_type": "execute_result"
    }
   ],
   "source": [
    "multilang_classifier(data.reply[8], return_all_scores=True)"
   ]
  },
  {
   "cell_type": "code",
   "execution_count": 9,
   "id": "852efd13",
   "metadata": {
    "ExecuteTime": {
     "end_time": "2022-06-02T16:22:24.733890Z",
     "start_time": "2022-06-02T16:22:24.724434Z"
    }
   },
   "outputs": [
    {
     "data": {
      "text/plain": [
       "<transformers.pipelines.text_classification.TextClassificationPipeline at 0x121c75730>"
      ]
     },
     "execution_count": 9,
     "metadata": {},
     "output_type": "execute_result"
    }
   ],
   "source": [
    "multilang_classifier"
   ]
  },
  {
   "cell_type": "code",
   "execution_count": 10,
   "id": "684f1e36",
   "metadata": {
    "ExecuteTime": {
     "end_time": "2022-06-02T16:22:24.962551Z",
     "start_time": "2022-06-02T16:22:24.745430Z"
    }
   },
   "outputs": [],
   "source": [
    "replies = data.drop_duplicates([\"leadid\", \"campaignid\", \"reply\"])"
   ]
  },
  {
   "cell_type": "code",
   "execution_count": 11,
   "id": "26282a7a",
   "metadata": {
    "ExecuteTime": {
     "end_time": "2022-06-02T16:22:24.971086Z",
     "start_time": "2022-06-02T16:22:24.965438Z"
    }
   },
   "outputs": [],
   "source": [
    "to_save = replies['reply']"
   ]
  },
  {
   "cell_type": "code",
   "execution_count": 12,
   "id": "0246b78e",
   "metadata": {
    "ExecuteTime": {
     "end_time": "2022-06-02T16:22:26.208703Z",
     "start_time": "2022-06-02T16:22:24.974857Z"
    }
   },
   "outputs": [],
   "source": [
    "to_save.to_csv('replies-target2.csv',sep=';',encoding='UTF-8',header=False)"
   ]
  },
  {
   "cell_type": "code",
   "execution_count": 13,
   "id": "b2d5fccc",
   "metadata": {
    "ExecuteTime": {
     "end_time": "2022-06-02T16:22:26.242349Z",
     "start_time": "2022-06-02T16:22:26.213656Z"
    }
   },
   "outputs": [
    {
     "data": {
      "text/plain": [
       "(1341, 4)"
      ]
     },
     "execution_count": 13,
     "metadata": {},
     "output_type": "execute_result"
    }
   ],
   "source": [
    "labelized_replies = pd.read_csv('replies-label.csv')\n",
    "labelized_replies.shape"
   ]
  },
  {
   "cell_type": "code",
   "execution_count": 14,
   "id": "26550831",
   "metadata": {
    "ExecuteTime": {
     "end_time": "2022-06-02T16:22:26.268336Z",
     "start_time": "2022-06-02T16:22:26.251128Z"
    }
   },
   "outputs": [
    {
     "data": {
      "text/plain": [
       "(1335, 4)"
      ]
     },
     "execution_count": 14,
     "metadata": {},
     "output_type": "execute_result"
    }
   ],
   "source": [
    "cleaned_labelized_replies = labelized_replies.dropna(axis=0)\n",
    "cleaned_labelized_replies.shape"
   ]
  },
  {
   "cell_type": "code",
   "execution_count": 15,
   "id": "ae47da07",
   "metadata": {
    "ExecuteTime": {
     "end_time": "2022-06-02T16:22:26.305036Z",
     "start_time": "2022-06-02T16:22:26.279426Z"
    }
   },
   "outputs": [],
   "source": [
    "label_to_merge = cleaned_labelized_replies.drop(columns=['id','text'])"
   ]
  },
  {
   "cell_type": "code",
   "execution_count": 16,
   "id": "9ca5eb2e",
   "metadata": {
    "ExecuteTime": {
     "end_time": "2022-06-02T16:22:26.384886Z",
     "start_time": "2022-06-02T16:22:26.311764Z"
    }
   },
   "outputs": [],
   "source": [
    "merge = replies.merge(label_to_merge,how='left',on='_id')"
   ]
  },
  {
   "cell_type": "code",
   "execution_count": 17,
   "id": "4019e1af",
   "metadata": {
    "ExecuteTime": {
     "end_time": "2022-06-02T16:22:26.474769Z",
     "start_time": "2022-06-02T16:22:26.389683Z"
    }
   },
   "outputs": [
    {
     "data": {
      "text/html": [
       "<div>\n",
       "<style scoped>\n",
       "    .dataframe tbody tr th:only-of-type {\n",
       "        vertical-align: middle;\n",
       "    }\n",
       "\n",
       "    .dataframe tbody tr th {\n",
       "        vertical-align: top;\n",
       "    }\n",
       "\n",
       "    .dataframe thead th {\n",
       "        text-align: right;\n",
       "    }\n",
       "</style>\n",
       "<table border=\"1\" class=\"dataframe\">\n",
       "  <thead>\n",
       "    <tr style=\"text-align: right;\">\n",
       "      <th></th>\n",
       "      <th>_id</th>\n",
       "      <th>type</th>\n",
       "      <th>error</th>\n",
       "      <th>status</th>\n",
       "      <th>message</th>\n",
       "      <th>channel</th>\n",
       "      <th>createdat</th>\n",
       "      <th>userid</th>\n",
       "      <th>linkedinlimited</th>\n",
       "      <th>date</th>\n",
       "      <th>...</th>\n",
       "      <th>identityid</th>\n",
       "      <th>subtype</th>\n",
       "      <th>requeued</th>\n",
       "      <th>reply</th>\n",
       "      <th>duration</th>\n",
       "      <th>templateid</th>\n",
       "      <th>actionid</th>\n",
       "      <th>deleted</th>\n",
       "      <th>success</th>\n",
       "      <th>label</th>\n",
       "    </tr>\n",
       "  </thead>\n",
       "  <tbody>\n",
       "    <tr>\n",
       "      <th>0</th>\n",
       "      <td>628e7357a0020c26468eeacc</td>\n",
       "      <td>LINKEDIN_ON_REPLY</td>\n",
       "      <td>False</td>\n",
       "      <td>SUCCESS</td>\n",
       "      <td>Replied to DM: true</td>\n",
       "      <td>LINKEDIN</td>\n",
       "      <td>1653502807905</td>\n",
       "      <td>607db83b997db13d4004d74b</td>\n",
       "      <td>False</td>\n",
       "      <td>NaN</td>\n",
       "      <td>...</td>\n",
       "      <td>615dbcf23e99504c4faa2960</td>\n",
       "      <td>909ff690-bc1f-439c-8a0c-817f9743d335</td>\n",
       "      <td>False</td>\n",
       "      <td>Not something we need. Maybe in 18 months. Tha...</td>\n",
       "      <td>NaN</td>\n",
       "      <td>62798b6f9736365dce4c852e</td>\n",
       "      <td>NaN</td>\n",
       "      <td>False</td>\n",
       "      <td>True</td>\n",
       "      <td>neutral</td>\n",
       "    </tr>\n",
       "    <tr>\n",
       "      <th>1</th>\n",
       "      <td>62925729dd8678265fb5e7a7</td>\n",
       "      <td>LINKEDIN_ON_REPLY</td>\n",
       "      <td>False</td>\n",
       "      <td>SUCCESS</td>\n",
       "      <td>Replied to DM: true</td>\n",
       "      <td>LINKEDIN</td>\n",
       "      <td>1653757737452</td>\n",
       "      <td>60409f62d358a074403702b1</td>\n",
       "      <td>False</td>\n",
       "      <td>NaN</td>\n",
       "      <td>...</td>\n",
       "      <td>62165e8e4ed54d04c1acadad</td>\n",
       "      <td>37c5a2a2-f62a-4326-ac6a-603c83756fbe</td>\n",
       "      <td>False</td>\n",
       "      <td>Bonjour Yohan,  Merci pour votre message. Malh...</td>\n",
       "      <td>NaN</td>\n",
       "      <td>62165f64939d8a2c75db35c2</td>\n",
       "      <td>NaN</td>\n",
       "      <td>False</td>\n",
       "      <td>True</td>\n",
       "      <td>negative</td>\n",
       "    </tr>\n",
       "    <tr>\n",
       "      <th>2</th>\n",
       "      <td>62925559ebad282654c1abd9</td>\n",
       "      <td>LINKEDIN_ON_REPLY</td>\n",
       "      <td>False</td>\n",
       "      <td>SUCCESS</td>\n",
       "      <td>Replied to DM: true</td>\n",
       "      <td>LINKEDIN</td>\n",
       "      <td>1653757273534</td>\n",
       "      <td>628fc9ccebad282654bf7337</td>\n",
       "      <td>False</td>\n",
       "      <td>NaN</td>\n",
       "      <td>...</td>\n",
       "      <td>628fc9d105f9d3263f7a05d6</td>\n",
       "      <td>59ae5c2d-961a-4eac-abe3-885652f7630c</td>\n",
       "      <td>False</td>\n",
       "      <td>Hi Mayank</td>\n",
       "      <td>NaN</td>\n",
       "      <td>628fce89ebad282654bf77f0</td>\n",
       "      <td>NaN</td>\n",
       "      <td>False</td>\n",
       "      <td>True</td>\n",
       "      <td>NaN</td>\n",
       "    </tr>\n",
       "    <tr>\n",
       "      <th>3</th>\n",
       "      <td>6292b849ebad282654c1db70</td>\n",
       "      <td>LINKEDIN_HAS_REPLY</td>\n",
       "      <td>False</td>\n",
       "      <td>SUCCESS</td>\n",
       "      <td>Reply: true - Connect</td>\n",
       "      <td>LINKEDIN</td>\n",
       "      <td>1653782601451</td>\n",
       "      <td>6215ee75da45f704b6176b07</td>\n",
       "      <td>False</td>\n",
       "      <td>NaN</td>\n",
       "      <td>...</td>\n",
       "      <td>6215ee79f5933c04a8d19425</td>\n",
       "      <td>688ba81f-818d-4c4f-956a-2c50173c71de</td>\n",
       "      <td>False</td>\n",
       "      <td>Bonjour Antoine, Au plaisir de lire vos posts,...</td>\n",
       "      <td>NaN</td>\n",
       "      <td>NaN</td>\n",
       "      <td>NaN</td>\n",
       "      <td>False</td>\n",
       "      <td>True</td>\n",
       "      <td>neutral</td>\n",
       "    </tr>\n",
       "    <tr>\n",
       "      <th>4</th>\n",
       "      <td>628e7376ebad282654be48cf</td>\n",
       "      <td>LINKEDIN_HAS_REPLY</td>\n",
       "      <td>False</td>\n",
       "      <td>SUCCESS</td>\n",
       "      <td>Reply: true - Connect</td>\n",
       "      <td>LINKEDIN</td>\n",
       "      <td>1653502838423</td>\n",
       "      <td>60409f62d358a074403702b1</td>\n",
       "      <td>False</td>\n",
       "      <td>NaN</td>\n",
       "      <td>...</td>\n",
       "      <td>60487f19c2044933f31844ed</td>\n",
       "      <td>c6530506-9db7-4acb-bb10-3110428a91ee</td>\n",
       "      <td>False</td>\n",
       "      <td>Disons q4 :)</td>\n",
       "      <td>NaN</td>\n",
       "      <td>624af6dd9e7b445d082f6d62</td>\n",
       "      <td>NaN</td>\n",
       "      <td>False</td>\n",
       "      <td>True</td>\n",
       "      <td>NaN</td>\n",
       "    </tr>\n",
       "    <tr>\n",
       "      <th>...</th>\n",
       "      <td>...</td>\n",
       "      <td>...</td>\n",
       "      <td>...</td>\n",
       "      <td>...</td>\n",
       "      <td>...</td>\n",
       "      <td>...</td>\n",
       "      <td>...</td>\n",
       "      <td>...</td>\n",
       "      <td>...</td>\n",
       "      <td>...</td>\n",
       "      <td>...</td>\n",
       "      <td>...</td>\n",
       "      <td>...</td>\n",
       "      <td>...</td>\n",
       "      <td>...</td>\n",
       "      <td>...</td>\n",
       "      <td>...</td>\n",
       "      <td>...</td>\n",
       "      <td>...</td>\n",
       "      <td>...</td>\n",
       "      <td>...</td>\n",
       "    </tr>\n",
       "    <tr>\n",
       "      <th>54447</th>\n",
       "      <td>6294f136a0020c2646953295</td>\n",
       "      <td>LINKEDIN_ON_REPLY</td>\n",
       "      <td>False</td>\n",
       "      <td>SUCCESS</td>\n",
       "      <td>Replied to DM: true</td>\n",
       "      <td>LINKEDIN</td>\n",
       "      <td>1653928246658</td>\n",
       "      <td>5d39b1787b53a58d195baaaf</td>\n",
       "      <td>False</td>\n",
       "      <td>NaN</td>\n",
       "      <td>...</td>\n",
       "      <td>61e8511683e1295b27b8d001</td>\n",
       "      <td>8d6598d8-7ed9-4bbd-bb0b-074dc60a042e</td>\n",
       "      <td>False</td>\n",
       "      <td>Merci</td>\n",
       "      <td>NaN</td>\n",
       "      <td>62714f6f13ee8d0bf05c44d9</td>\n",
       "      <td>NaN</td>\n",
       "      <td>False</td>\n",
       "      <td>True</td>\n",
       "      <td>NaN</td>\n",
       "    </tr>\n",
       "    <tr>\n",
       "      <th>54448</th>\n",
       "      <td>6294efe2ebad282654c494e4</td>\n",
       "      <td>GOOGLE_REPLY</td>\n",
       "      <td>False</td>\n",
       "      <td>SUCCESS</td>\n",
       "      <td>Reply: true</td>\n",
       "      <td>GOOGLE</td>\n",
       "      <td>1653927906550</td>\n",
       "      <td>6245a803009dbc7d46736429</td>\n",
       "      <td>False</td>\n",
       "      <td>NaN</td>\n",
       "      <td>...</td>\n",
       "      <td>6245a80880149a7d40a28d93</td>\n",
       "      <td>NaN</td>\n",
       "      <td>False</td>\n",
       "      <td>Dear sender, I'll be away until next week. If ...</td>\n",
       "      <td>NaN</td>\n",
       "      <td>624aa7bb28eb2b5d0f172983</td>\n",
       "      <td>NaN</td>\n",
       "      <td>False</td>\n",
       "      <td>True</td>\n",
       "      <td>NaN</td>\n",
       "    </tr>\n",
       "    <tr>\n",
       "      <th>54449</th>\n",
       "      <td>6294f09205f9d3263f7f290a</td>\n",
       "      <td>LINKEDIN_ON_REPLY</td>\n",
       "      <td>False</td>\n",
       "      <td>SUCCESS</td>\n",
       "      <td>Replied to DM: true</td>\n",
       "      <td>LINKEDIN</td>\n",
       "      <td>1653928082370</td>\n",
       "      <td>623991ecd86d7946dd729f1a</td>\n",
       "      <td>False</td>\n",
       "      <td>NaN</td>\n",
       "      <td>...</td>\n",
       "      <td>624da67bb565b573bd2ae779</td>\n",
       "      <td>2fadd68a-d0de-4f16-a482-fd51557dfb71</td>\n",
       "      <td>False</td>\n",
       "      <td>Bonjour David,  Navré pour ma réponse tardive....</td>\n",
       "      <td>NaN</td>\n",
       "      <td>6287b45a4ac76d4728bc15e0</td>\n",
       "      <td>NaN</td>\n",
       "      <td>False</td>\n",
       "      <td>True</td>\n",
       "      <td>NaN</td>\n",
       "    </tr>\n",
       "    <tr>\n",
       "      <th>54450</th>\n",
       "      <td>6294f06733904114ef2ee051</td>\n",
       "      <td>GOOGLE_REPLY</td>\n",
       "      <td>False</td>\n",
       "      <td>SUCCESS</td>\n",
       "      <td>Reply: true</td>\n",
       "      <td>GOOGLE</td>\n",
       "      <td>1653928039533</td>\n",
       "      <td>620b8a655d37c17677bac5f2</td>\n",
       "      <td>False</td>\n",
       "      <td>NaN</td>\n",
       "      <td>...</td>\n",
       "      <td>620b8a6a56a110765e2076fa</td>\n",
       "      <td>NaN</td>\n",
       "      <td>False</td>\n",
       "      <td>Bonjour  En déplacement du lundi 30 mai 2022 a...</td>\n",
       "      <td>NaN</td>\n",
       "      <td>625429fab565b573bd33447d</td>\n",
       "      <td>NaN</td>\n",
       "      <td>False</td>\n",
       "      <td>True</td>\n",
       "      <td>NaN</td>\n",
       "    </tr>\n",
       "    <tr>\n",
       "      <th>54451</th>\n",
       "      <td>6294f1d4dd8678265fb8cc7a</td>\n",
       "      <td>LINKEDIN_ON_REPLY</td>\n",
       "      <td>False</td>\n",
       "      <td>SUCCESS</td>\n",
       "      <td>Replied to DM: true</td>\n",
       "      <td>LINKEDIN</td>\n",
       "      <td>1653928404413</td>\n",
       "      <td>5d39b1787b53a58d195baaaf</td>\n",
       "      <td>False</td>\n",
       "      <td>NaN</td>\n",
       "      <td>...</td>\n",
       "      <td>5d3f2579cf70c23e3f0b9ea7</td>\n",
       "      <td>d77e6037-001b-4af7-b100-59f16db8af24</td>\n",
       "      <td>False</td>\n",
       "      <td>Bonjour Kenza,  Merci de vous être tournée ver...</td>\n",
       "      <td>NaN</td>\n",
       "      <td>628cea5febad282654bba54a</td>\n",
       "      <td>NaN</td>\n",
       "      <td>False</td>\n",
       "      <td>True</td>\n",
       "      <td>NaN</td>\n",
       "    </tr>\n",
       "  </tbody>\n",
       "</table>\n",
       "<p>54452 rows × 24 columns</p>\n",
       "</div>"
      ],
      "text/plain": [
       "                            _id                type  error   status  \\\n",
       "0      628e7357a0020c26468eeacc   LINKEDIN_ON_REPLY  False  SUCCESS   \n",
       "1      62925729dd8678265fb5e7a7   LINKEDIN_ON_REPLY  False  SUCCESS   \n",
       "2      62925559ebad282654c1abd9   LINKEDIN_ON_REPLY  False  SUCCESS   \n",
       "3      6292b849ebad282654c1db70  LINKEDIN_HAS_REPLY  False  SUCCESS   \n",
       "4      628e7376ebad282654be48cf  LINKEDIN_HAS_REPLY  False  SUCCESS   \n",
       "...                         ...                 ...    ...      ...   \n",
       "54447  6294f136a0020c2646953295   LINKEDIN_ON_REPLY  False  SUCCESS   \n",
       "54448  6294efe2ebad282654c494e4        GOOGLE_REPLY  False  SUCCESS   \n",
       "54449  6294f09205f9d3263f7f290a   LINKEDIN_ON_REPLY  False  SUCCESS   \n",
       "54450  6294f06733904114ef2ee051        GOOGLE_REPLY  False  SUCCESS   \n",
       "54451  6294f1d4dd8678265fb8cc7a   LINKEDIN_ON_REPLY  False  SUCCESS   \n",
       "\n",
       "                     message   channel      createdat  \\\n",
       "0        Replied to DM: true  LINKEDIN  1653502807905   \n",
       "1        Replied to DM: true  LINKEDIN  1653757737452   \n",
       "2        Replied to DM: true  LINKEDIN  1653757273534   \n",
       "3      Reply: true - Connect  LINKEDIN  1653782601451   \n",
       "4      Reply: true - Connect  LINKEDIN  1653502838423   \n",
       "...                      ...       ...            ...   \n",
       "54447    Replied to DM: true  LINKEDIN  1653928246658   \n",
       "54448           Reply: true     GOOGLE  1653927906550   \n",
       "54449    Replied to DM: true  LINKEDIN  1653928082370   \n",
       "54450           Reply: true     GOOGLE  1653928039533   \n",
       "54451    Replied to DM: true  LINKEDIN  1653928404413   \n",
       "\n",
       "                         userid  linkedinlimited date  ...  \\\n",
       "0      607db83b997db13d4004d74b            False  NaN  ...   \n",
       "1      60409f62d358a074403702b1            False  NaN  ...   \n",
       "2      628fc9ccebad282654bf7337            False  NaN  ...   \n",
       "3      6215ee75da45f704b6176b07            False  NaN  ...   \n",
       "4      60409f62d358a074403702b1            False  NaN  ...   \n",
       "...                         ...              ...  ...  ...   \n",
       "54447  5d39b1787b53a58d195baaaf            False  NaN  ...   \n",
       "54448  6245a803009dbc7d46736429            False  NaN  ...   \n",
       "54449  623991ecd86d7946dd729f1a            False  NaN  ...   \n",
       "54450  620b8a655d37c17677bac5f2            False  NaN  ...   \n",
       "54451  5d39b1787b53a58d195baaaf            False  NaN  ...   \n",
       "\n",
       "                     identityid                               subtype  \\\n",
       "0      615dbcf23e99504c4faa2960  909ff690-bc1f-439c-8a0c-817f9743d335   \n",
       "1      62165e8e4ed54d04c1acadad  37c5a2a2-f62a-4326-ac6a-603c83756fbe   \n",
       "2      628fc9d105f9d3263f7a05d6  59ae5c2d-961a-4eac-abe3-885652f7630c   \n",
       "3      6215ee79f5933c04a8d19425  688ba81f-818d-4c4f-956a-2c50173c71de   \n",
       "4      60487f19c2044933f31844ed  c6530506-9db7-4acb-bb10-3110428a91ee   \n",
       "...                         ...                                   ...   \n",
       "54447  61e8511683e1295b27b8d001  8d6598d8-7ed9-4bbd-bb0b-074dc60a042e   \n",
       "54448  6245a80880149a7d40a28d93                                   NaN   \n",
       "54449  624da67bb565b573bd2ae779  2fadd68a-d0de-4f16-a482-fd51557dfb71   \n",
       "54450  620b8a6a56a110765e2076fa                                   NaN   \n",
       "54451  5d3f2579cf70c23e3f0b9ea7  d77e6037-001b-4af7-b100-59f16db8af24   \n",
       "\n",
       "      requeued                                              reply duration  \\\n",
       "0        False  Not something we need. Maybe in 18 months. Tha...      NaN   \n",
       "1        False  Bonjour Yohan,  Merci pour votre message. Malh...      NaN   \n",
       "2        False                                          Hi Mayank      NaN   \n",
       "3        False  Bonjour Antoine, Au plaisir de lire vos posts,...      NaN   \n",
       "4        False                                       Disons q4 :)      NaN   \n",
       "...        ...                                                ...      ...   \n",
       "54447    False                                              Merci      NaN   \n",
       "54448    False  Dear sender, I'll be away until next week. If ...      NaN   \n",
       "54449    False  Bonjour David,  Navré pour ma réponse tardive....      NaN   \n",
       "54450    False  Bonjour  En déplacement du lundi 30 mai 2022 a...      NaN   \n",
       "54451    False  Bonjour Kenza,  Merci de vous être tournée ver...      NaN   \n",
       "\n",
       "                     templateid  actionid deleted  success     label  \n",
       "0      62798b6f9736365dce4c852e       NaN   False     True   neutral  \n",
       "1      62165f64939d8a2c75db35c2       NaN   False     True  negative  \n",
       "2      628fce89ebad282654bf77f0       NaN   False     True       NaN  \n",
       "3                           NaN       NaN   False     True   neutral  \n",
       "4      624af6dd9e7b445d082f6d62       NaN   False     True       NaN  \n",
       "...                         ...       ...     ...      ...       ...  \n",
       "54447  62714f6f13ee8d0bf05c44d9       NaN   False     True       NaN  \n",
       "54448  624aa7bb28eb2b5d0f172983       NaN   False     True       NaN  \n",
       "54449  6287b45a4ac76d4728bc15e0       NaN   False     True       NaN  \n",
       "54450  625429fab565b573bd33447d       NaN   False     True       NaN  \n",
       "54451  628cea5febad282654bba54a       NaN   False     True       NaN  \n",
       "\n",
       "[54452 rows x 24 columns]"
      ]
     },
     "execution_count": 17,
     "metadata": {},
     "output_type": "execute_result"
    }
   ],
   "source": [
    "merge"
   ]
  },
  {
   "cell_type": "code",
   "execution_count": 18,
   "id": "fb402897",
   "metadata": {
    "ExecuteTime": {
     "end_time": "2022-06-02T16:22:26.510126Z",
     "start_time": "2022-06-02T16:22:26.479543Z"
    }
   },
   "outputs": [],
   "source": [
    "df_replies=pd.DataFrame(merge['reply']).dropna()"
   ]
  },
  {
   "cell_type": "code",
   "execution_count": 19,
   "id": "003759cc",
   "metadata": {
    "ExecuteTime": {
     "end_time": "2022-06-02T16:22:26.751621Z",
     "start_time": "2022-06-02T16:22:26.515996Z"
    }
   },
   "outputs": [
    {
     "data": {
      "text/html": [
       "<div>\n",
       "<style scoped>\n",
       "    .dataframe tbody tr th:only-of-type {\n",
       "        vertical-align: middle;\n",
       "    }\n",
       "\n",
       "    .dataframe tbody tr th {\n",
       "        vertical-align: top;\n",
       "    }\n",
       "\n",
       "    .dataframe thead th {\n",
       "        text-align: right;\n",
       "    }\n",
       "</style>\n",
       "<table border=\"1\" class=\"dataframe\">\n",
       "  <thead>\n",
       "    <tr style=\"text-align: right;\">\n",
       "      <th></th>\n",
       "      <th>reply</th>\n",
       "    </tr>\n",
       "  </thead>\n",
       "  <tbody>\n",
       "    <tr>\n",
       "      <th>77</th>\n",
       "      <td>Bonjour,  Actuellement absente, avec un accès ...</td>\n",
       "    </tr>\n",
       "    <tr>\n",
       "      <th>99</th>\n",
       "      <td>Bonjour,  Je suis actuellement absente et sera...</td>\n",
       "    </tr>\n",
       "    <tr>\n",
       "      <th>112</th>\n",
       "      <td>Bonjour, je suis absent du mercredi 25 mai au ...</td>\n",
       "    </tr>\n",
       "    <tr>\n",
       "      <th>147</th>\n",
       "      <td>Bonjour, je suis absente du bureau du 23/05/20...</td>\n",
       "    </tr>\n",
       "    <tr>\n",
       "      <th>204</th>\n",
       "      <td>Hello,  I'm out of the office today 14th of fe...</td>\n",
       "    </tr>\n",
       "    <tr>\n",
       "      <th>...</th>\n",
       "      <td>...</td>\n",
       "    </tr>\n",
       "    <tr>\n",
       "      <th>54311</th>\n",
       "      <td>Bonjour,  Merci pour votre message, actuelleme...</td>\n",
       "    </tr>\n",
       "    <tr>\n",
       "      <th>54317</th>\n",
       "      <td>Hi,  I am out of the office until Mon 6th June...</td>\n",
       "    </tr>\n",
       "    <tr>\n",
       "      <th>54352</th>\n",
       "      <td>Bonjour,  Actuellement absente, vous pouvez co...</td>\n",
       "    </tr>\n",
       "    <tr>\n",
       "      <th>54436</th>\n",
       "      <td>Bonjour,  Je suis absent jusqu'au 30/05. Je pr...</td>\n",
       "    </tr>\n",
       "    <tr>\n",
       "      <th>54446</th>\n",
       "      <td>Bonjour,  Je suis absente et serai de retour m...</td>\n",
       "    </tr>\n",
       "  </tbody>\n",
       "</table>\n",
       "<p>2708 rows × 1 columns</p>\n",
       "</div>"
      ],
      "text/plain": [
       "                                                   reply\n",
       "77     Bonjour,  Actuellement absente, avec un accès ...\n",
       "99     Bonjour,  Je suis actuellement absente et sera...\n",
       "112    Bonjour, je suis absent du mercredi 25 mai au ...\n",
       "147    Bonjour, je suis absente du bureau du 23/05/20...\n",
       "204    Hello,  I'm out of the office today 14th of fe...\n",
       "...                                                  ...\n",
       "54311  Bonjour,  Merci pour votre message, actuelleme...\n",
       "54317  Hi,  I am out of the office until Mon 6th June...\n",
       "54352  Bonjour,  Actuellement absente, vous pouvez co...\n",
       "54436  Bonjour,  Je suis absent jusqu'au 30/05. Je pr...\n",
       "54446  Bonjour,  Je suis absente et serai de retour m...\n",
       "\n",
       "[2708 rows x 1 columns]"
      ]
     },
     "execution_count": 19,
     "metadata": {},
     "output_type": "execute_result"
    }
   ],
   "source": [
    "df_replies[df_replies['reply'].str.contains(\"absen\")]"
   ]
  },
  {
   "cell_type": "code",
   "execution_count": 20,
   "id": "b2e270db",
   "metadata": {
    "ExecuteTime": {
     "end_time": "2022-06-02T16:22:26.902015Z",
     "start_time": "2022-06-02T16:22:26.783331Z"
    }
   },
   "outputs": [
    {
     "data": {
      "text/html": [
       "<div>\n",
       "<style scoped>\n",
       "    .dataframe tbody tr th:only-of-type {\n",
       "        vertical-align: middle;\n",
       "    }\n",
       "\n",
       "    .dataframe tbody tr th {\n",
       "        vertical-align: top;\n",
       "    }\n",
       "\n",
       "    .dataframe thead th {\n",
       "        text-align: right;\n",
       "    }\n",
       "</style>\n",
       "<table border=\"1\" class=\"dataframe\">\n",
       "  <thead>\n",
       "    <tr style=\"text-align: right;\">\n",
       "      <th></th>\n",
       "      <th>reply</th>\n",
       "    </tr>\n",
       "  </thead>\n",
       "  <tbody>\n",
       "    <tr>\n",
       "      <th>15</th>\n",
       "      <td>Hi,  i'm out of the office until the 30th of m...</td>\n",
       "    </tr>\n",
       "    <tr>\n",
       "      <th>21</th>\n",
       "      <td>First of all, thank you for your good behavior...</td>\n",
       "    </tr>\n",
       "    <tr>\n",
       "      <th>22</th>\n",
       "      <td>Not my area... contact our corporate office in...</td>\n",
       "    </tr>\n",
       "    <tr>\n",
       "      <th>103</th>\n",
       "      <td>Hi, Thank you for your email. I am out of the ...</td>\n",
       "    </tr>\n",
       "    <tr>\n",
       "      <th>105</th>\n",
       "      <td>Dear sender, I am currently out of office and ...</td>\n",
       "    </tr>\n",
       "    <tr>\n",
       "      <th>...</th>\n",
       "      <td>...</td>\n",
       "    </tr>\n",
       "    <tr>\n",
       "      <th>54399</th>\n",
       "      <td>Hello,  Thank you for your email. I will be ou...</td>\n",
       "    </tr>\n",
       "    <tr>\n",
       "      <th>54422</th>\n",
       "      <td>Dear Sender, Thank you for your e-mail. I am c...</td>\n",
       "    </tr>\n",
       "    <tr>\n",
       "      <th>54429</th>\n",
       "      <td>Bonjour,  Absente du 25/05/2022 au 31/05/2022 ...</td>\n",
       "    </tr>\n",
       "    <tr>\n",
       "      <th>54439</th>\n",
       "      <td>Hello, I am out of the office, back on May 31s...</td>\n",
       "    </tr>\n",
       "    <tr>\n",
       "      <th>54446</th>\n",
       "      <td>Bonjour,  Je suis absente et serai de retour m...</td>\n",
       "    </tr>\n",
       "  </tbody>\n",
       "</table>\n",
       "<p>1806 rows × 1 columns</p>\n",
       "</div>"
      ],
      "text/plain": [
       "                                                   reply\n",
       "15     Hi,  i'm out of the office until the 30th of m...\n",
       "21     First of all, thank you for your good behavior...\n",
       "22     Not my area... contact our corporate office in...\n",
       "103    Hi, Thank you for your email. I am out of the ...\n",
       "105    Dear sender, I am currently out of office and ...\n",
       "...                                                  ...\n",
       "54399  Hello,  Thank you for your email. I will be ou...\n",
       "54422  Dear Sender, Thank you for your e-mail. I am c...\n",
       "54429  Bonjour,  Absente du 25/05/2022 au 31/05/2022 ...\n",
       "54439  Hello, I am out of the office, back on May 31s...\n",
       "54446  Bonjour,  Je suis absente et serai de retour m...\n",
       "\n",
       "[1806 rows x 1 columns]"
      ]
     },
     "execution_count": 20,
     "metadata": {},
     "output_type": "execute_result"
    }
   ],
   "source": [
    "df_replies[df_replies['reply'].str.contains(\"office\")]"
   ]
  },
  {
   "cell_type": "code",
   "execution_count": 21,
   "id": "e9d899d5",
   "metadata": {
    "ExecuteTime": {
     "end_time": "2022-06-02T16:22:27.278688Z",
     "start_time": "2022-06-02T16:22:26.906233Z"
    }
   },
   "outputs": [
    {
     "data": {
      "text/html": [
       "<div>\n",
       "<style scoped>\n",
       "    .dataframe tbody tr th:only-of-type {\n",
       "        vertical-align: middle;\n",
       "    }\n",
       "\n",
       "    .dataframe tbody tr th {\n",
       "        vertical-align: top;\n",
       "    }\n",
       "\n",
       "    .dataframe thead th {\n",
       "        text-align: right;\n",
       "    }\n",
       "</style>\n",
       "<table border=\"1\" class=\"dataframe\">\n",
       "  <thead>\n",
       "    <tr style=\"text-align: right;\">\n",
       "      <th></th>\n",
       "      <th>_id</th>\n",
       "      <th>type</th>\n",
       "      <th>error</th>\n",
       "      <th>status</th>\n",
       "      <th>message</th>\n",
       "      <th>channel</th>\n",
       "      <th>createdat</th>\n",
       "      <th>userid</th>\n",
       "      <th>linkedinlimited</th>\n",
       "      <th>date</th>\n",
       "      <th>...</th>\n",
       "      <th>identityid</th>\n",
       "      <th>subtype</th>\n",
       "      <th>requeued</th>\n",
       "      <th>reply</th>\n",
       "      <th>duration</th>\n",
       "      <th>templateid</th>\n",
       "      <th>actionid</th>\n",
       "      <th>deleted</th>\n",
       "      <th>success</th>\n",
       "      <th>label</th>\n",
       "    </tr>\n",
       "  </thead>\n",
       "  <tbody>\n",
       "    <tr>\n",
       "      <th>39</th>\n",
       "      <td>628e8cab05f9d3263f78f3e7</td>\n",
       "      <td>LINKEDIN_ON_REPLY</td>\n",
       "      <td>False</td>\n",
       "      <td>SUCCESS</td>\n",
       "      <td>Replied to DM: true</td>\n",
       "      <td>LINKEDIN</td>\n",
       "      <td>1653509291932</td>\n",
       "      <td>603fa0f2edb37d744754ab3c</td>\n",
       "      <td>False</td>\n",
       "      <td>NaN</td>\n",
       "      <td>...</td>\n",
       "      <td>60cb1dbc61147e7726e22e75</td>\n",
       "      <td>419f63a7-66ab-4bee-88e2-afd52fb23052</td>\n",
       "      <td>False</td>\n",
       "      <td>Bonjour Clémence, Je suis en effet à la recher...</td>\n",
       "      <td>NaN</td>\n",
       "      <td>625ed173c754f419b71c100a</td>\n",
       "      <td>NaN</td>\n",
       "      <td>False</td>\n",
       "      <td>True</td>\n",
       "      <td>NaN</td>\n",
       "    </tr>\n",
       "    <tr>\n",
       "      <th>54</th>\n",
       "      <td>628e9874dd8678265fb2acd7</td>\n",
       "      <td>LINKEDIN_ON_REPLY</td>\n",
       "      <td>False</td>\n",
       "      <td>SUCCESS</td>\n",
       "      <td>Replied to DM: true</td>\n",
       "      <td>LINKEDIN</td>\n",
       "      <td>1653512308261</td>\n",
       "      <td>6155bcc031fc674c480ff9ed</td>\n",
       "      <td>False</td>\n",
       "      <td>NaN</td>\n",
       "      <td>...</td>\n",
       "      <td>6221dd5bb11c700a50cf636d</td>\n",
       "      <td>df96f2cb-aa14-454f-a172-95d5abba6b73</td>\n",
       "      <td>False</td>\n",
       "      <td>Bonjour  Désolé je suis actuellement en congés...</td>\n",
       "      <td>NaN</td>\n",
       "      <td>627a8fe99b80b427c1e19551</td>\n",
       "      <td>NaN</td>\n",
       "      <td>False</td>\n",
       "      <td>True</td>\n",
       "      <td>NaN</td>\n",
       "    </tr>\n",
       "    <tr>\n",
       "      <th>77</th>\n",
       "      <td>628eb3b305f9d3263f7912b6</td>\n",
       "      <td>GOOGLE_REPLY</td>\n",
       "      <td>False</td>\n",
       "      <td>SUCCESS</td>\n",
       "      <td>Reply: true</td>\n",
       "      <td>GOOGLE</td>\n",
       "      <td>1653519283400</td>\n",
       "      <td>6215ee75da45f704b6176b07</td>\n",
       "      <td>False</td>\n",
       "      <td>NaN</td>\n",
       "      <td>...</td>\n",
       "      <td>6215ee79f5933c04a8d19425</td>\n",
       "      <td>NaN</td>\n",
       "      <td>False</td>\n",
       "      <td>Bonjour,  Actuellement absente, avec un accès ...</td>\n",
       "      <td>NaN</td>\n",
       "      <td>627cdd0400b7b35e91f6c0be</td>\n",
       "      <td>NaN</td>\n",
       "      <td>False</td>\n",
       "      <td>True</td>\n",
       "      <td>NaN</td>\n",
       "    </tr>\n",
       "    <tr>\n",
       "      <th>99</th>\n",
       "      <td>628ee29005f9d3263f792d3c</td>\n",
       "      <td>GOOGLE_REPLY</td>\n",
       "      <td>False</td>\n",
       "      <td>SUCCESS</td>\n",
       "      <td>Reply: true</td>\n",
       "      <td>GOOGLE</td>\n",
       "      <td>1653531280699</td>\n",
       "      <td>615a9d4731fc674c48122ee5</td>\n",
       "      <td>False</td>\n",
       "      <td>NaN</td>\n",
       "      <td>...</td>\n",
       "      <td>615a9d4c0ee40f4c5698ff23</td>\n",
       "      <td>NaN</td>\n",
       "      <td>False</td>\n",
       "      <td>Bonjour,  Je suis actuellement absente et sera...</td>\n",
       "      <td>NaN</td>\n",
       "      <td>628707075363ea470f9e7b25</td>\n",
       "      <td>NaN</td>\n",
       "      <td>False</td>\n",
       "      <td>True</td>\n",
       "      <td>NaN</td>\n",
       "    </tr>\n",
       "    <tr>\n",
       "      <th>112</th>\n",
       "      <td>628f1171dd8678265fb2ef75</td>\n",
       "      <td>GOOGLE_REPLY</td>\n",
       "      <td>False</td>\n",
       "      <td>SUCCESS</td>\n",
       "      <td>Reply: true</td>\n",
       "      <td>GOOGLE</td>\n",
       "      <td>1653543281288</td>\n",
       "      <td>615a9d4731fc674c48122ee5</td>\n",
       "      <td>False</td>\n",
       "      <td>NaN</td>\n",
       "      <td>...</td>\n",
       "      <td>615a9d4c0ee40f4c5698ff23</td>\n",
       "      <td>NaN</td>\n",
       "      <td>False</td>\n",
       "      <td>Bonjour, je suis absent du mercredi 25 mai au ...</td>\n",
       "      <td>NaN</td>\n",
       "      <td>62616ec541e6766974cf647f</td>\n",
       "      <td>NaN</td>\n",
       "      <td>False</td>\n",
       "      <td>True</td>\n",
       "      <td>NaN</td>\n",
       "    </tr>\n",
       "    <tr>\n",
       "      <th>...</th>\n",
       "      <td>...</td>\n",
       "      <td>...</td>\n",
       "      <td>...</td>\n",
       "      <td>...</td>\n",
       "      <td>...</td>\n",
       "      <td>...</td>\n",
       "      <td>...</td>\n",
       "      <td>...</td>\n",
       "      <td>...</td>\n",
       "      <td>...</td>\n",
       "      <td>...</td>\n",
       "      <td>...</td>\n",
       "      <td>...</td>\n",
       "      <td>...</td>\n",
       "      <td>...</td>\n",
       "      <td>...</td>\n",
       "      <td>...</td>\n",
       "      <td>...</td>\n",
       "      <td>...</td>\n",
       "      <td>...</td>\n",
       "      <td>...</td>\n",
       "    </tr>\n",
       "    <tr>\n",
       "      <th>54352</th>\n",
       "      <td>6294de4f05f9d3263f7eed85</td>\n",
       "      <td>GOOGLE_REPLY</td>\n",
       "      <td>False</td>\n",
       "      <td>SUCCESS</td>\n",
       "      <td>Reply: true</td>\n",
       "      <td>GOOGLE</td>\n",
       "      <td>1653923407362</td>\n",
       "      <td>6038a95c53aa0774591f3d12</td>\n",
       "      <td>False</td>\n",
       "      <td>NaN</td>\n",
       "      <td>...</td>\n",
       "      <td>603f43a91cb174746468a43f</td>\n",
       "      <td>NaN</td>\n",
       "      <td>False</td>\n",
       "      <td>Bonjour,  Actuellement absente, vous pouvez co...</td>\n",
       "      <td>NaN</td>\n",
       "      <td>628209d7bbd61a7051a8851d</td>\n",
       "      <td>NaN</td>\n",
       "      <td>False</td>\n",
       "      <td>True</td>\n",
       "      <td>NaN</td>\n",
       "    </tr>\n",
       "    <tr>\n",
       "      <th>54398</th>\n",
       "      <td>6294e553ebad282654c4742b</td>\n",
       "      <td>GOOGLE_REPLY</td>\n",
       "      <td>False</td>\n",
       "      <td>SUCCESS</td>\n",
       "      <td>Reply: true</td>\n",
       "      <td>GOOGLE</td>\n",
       "      <td>1653925203266</td>\n",
       "      <td>6127a29c6342312afe04204c</td>\n",
       "      <td>False</td>\n",
       "      <td>NaN</td>\n",
       "      <td>...</td>\n",
       "      <td>6127b8d6cc73bc2ae95e72e0</td>\n",
       "      <td>NaN</td>\n",
       "      <td>False</td>\n",
       "      <td>Salut Thomas,  Très bien je te remercie, j’esp...</td>\n",
       "      <td>NaN</td>\n",
       "      <td>628e2853dd8678265fb1bee9</td>\n",
       "      <td>NaN</td>\n",
       "      <td>False</td>\n",
       "      <td>True</td>\n",
       "      <td>NaN</td>\n",
       "    </tr>\n",
       "    <tr>\n",
       "      <th>54436</th>\n",
       "      <td>6294ec6105f9d3263f7f1d3e</td>\n",
       "      <td>GOOGLE_REPLY</td>\n",
       "      <td>False</td>\n",
       "      <td>SUCCESS</td>\n",
       "      <td>Reply: true</td>\n",
       "      <td>GOOGLE</td>\n",
       "      <td>1653927009018</td>\n",
       "      <td>62728e1cc8cab40be1ea5b34</td>\n",
       "      <td>False</td>\n",
       "      <td>NaN</td>\n",
       "      <td>...</td>\n",
       "      <td>62728e2213ee8d0bf05e5366</td>\n",
       "      <td>NaN</td>\n",
       "      <td>False</td>\n",
       "      <td>Bonjour,  Je suis absent jusqu'au 30/05. Je pr...</td>\n",
       "      <td>NaN</td>\n",
       "      <td>6273dad165b47b0bdac458ab</td>\n",
       "      <td>NaN</td>\n",
       "      <td>False</td>\n",
       "      <td>True</td>\n",
       "      <td>NaN</td>\n",
       "    </tr>\n",
       "    <tr>\n",
       "      <th>54444</th>\n",
       "      <td>6294eec1ebad282654c4925c</td>\n",
       "      <td>GOOGLE_REPLY</td>\n",
       "      <td>False</td>\n",
       "      <td>SUCCESS</td>\n",
       "      <td>Reply: true</td>\n",
       "      <td>GOOGLE</td>\n",
       "      <td>1653927617925</td>\n",
       "      <td>61efc10d39f30a134d7bf111</td>\n",
       "      <td>False</td>\n",
       "      <td>NaN</td>\n",
       "      <td>...</td>\n",
       "      <td>62027a0e23f20665eb41b086</td>\n",
       "      <td>NaN</td>\n",
       "      <td>False</td>\n",
       "      <td>Bonjour,  actuellement en congé maternité, je ...</td>\n",
       "      <td>NaN</td>\n",
       "      <td>62948228ebad282654c300be</td>\n",
       "      <td>NaN</td>\n",
       "      <td>False</td>\n",
       "      <td>True</td>\n",
       "      <td>NaN</td>\n",
       "    </tr>\n",
       "    <tr>\n",
       "      <th>54446</th>\n",
       "      <td>6294ee9debad282654c48fd5</td>\n",
       "      <td>GOOGLE_REPLY</td>\n",
       "      <td>False</td>\n",
       "      <td>SUCCESS</td>\n",
       "      <td>Reply: true</td>\n",
       "      <td>GOOGLE</td>\n",
       "      <td>1653927581381</td>\n",
       "      <td>61f1404ecb038d42f90aab2e</td>\n",
       "      <td>False</td>\n",
       "      <td>NaN</td>\n",
       "      <td>...</td>\n",
       "      <td>621df81f8fa7462b95d44507</td>\n",
       "      <td>NaN</td>\n",
       "      <td>False</td>\n",
       "      <td>Bonjour,  Je suis absente et serai de retour m...</td>\n",
       "      <td>NaN</td>\n",
       "      <td>622630f7d9a70f3f37cb8d80</td>\n",
       "      <td>NaN</td>\n",
       "      <td>False</td>\n",
       "      <td>True</td>\n",
       "      <td>NaN</td>\n",
       "    </tr>\n",
       "  </tbody>\n",
       "</table>\n",
       "<p>4407 rows × 24 columns</p>\n",
       "</div>"
      ],
      "text/plain": [
       "                            _id               type  error   status  \\\n",
       "39     628e8cab05f9d3263f78f3e7  LINKEDIN_ON_REPLY  False  SUCCESS   \n",
       "54     628e9874dd8678265fb2acd7  LINKEDIN_ON_REPLY  False  SUCCESS   \n",
       "77     628eb3b305f9d3263f7912b6       GOOGLE_REPLY  False  SUCCESS   \n",
       "99     628ee29005f9d3263f792d3c       GOOGLE_REPLY  False  SUCCESS   \n",
       "112    628f1171dd8678265fb2ef75       GOOGLE_REPLY  False  SUCCESS   \n",
       "...                         ...                ...    ...      ...   \n",
       "54352  6294de4f05f9d3263f7eed85       GOOGLE_REPLY  False  SUCCESS   \n",
       "54398  6294e553ebad282654c4742b       GOOGLE_REPLY  False  SUCCESS   \n",
       "54436  6294ec6105f9d3263f7f1d3e       GOOGLE_REPLY  False  SUCCESS   \n",
       "54444  6294eec1ebad282654c4925c       GOOGLE_REPLY  False  SUCCESS   \n",
       "54446  6294ee9debad282654c48fd5       GOOGLE_REPLY  False  SUCCESS   \n",
       "\n",
       "                   message   channel      createdat                    userid  \\\n",
       "39     Replied to DM: true  LINKEDIN  1653509291932  603fa0f2edb37d744754ab3c   \n",
       "54     Replied to DM: true  LINKEDIN  1653512308261  6155bcc031fc674c480ff9ed   \n",
       "77            Reply: true     GOOGLE  1653519283400  6215ee75da45f704b6176b07   \n",
       "99            Reply: true     GOOGLE  1653531280699  615a9d4731fc674c48122ee5   \n",
       "112           Reply: true     GOOGLE  1653543281288  615a9d4731fc674c48122ee5   \n",
       "...                    ...       ...            ...                       ...   \n",
       "54352         Reply: true     GOOGLE  1653923407362  6038a95c53aa0774591f3d12   \n",
       "54398         Reply: true     GOOGLE  1653925203266  6127a29c6342312afe04204c   \n",
       "54436         Reply: true     GOOGLE  1653927009018  62728e1cc8cab40be1ea5b34   \n",
       "54444         Reply: true     GOOGLE  1653927617925  61efc10d39f30a134d7bf111   \n",
       "54446         Reply: true     GOOGLE  1653927581381  61f1404ecb038d42f90aab2e   \n",
       "\n",
       "       linkedinlimited date  ...                identityid  \\\n",
       "39               False  NaN  ...  60cb1dbc61147e7726e22e75   \n",
       "54               False  NaN  ...  6221dd5bb11c700a50cf636d   \n",
       "77               False  NaN  ...  6215ee79f5933c04a8d19425   \n",
       "99               False  NaN  ...  615a9d4c0ee40f4c5698ff23   \n",
       "112              False  NaN  ...  615a9d4c0ee40f4c5698ff23   \n",
       "...                ...  ...  ...                       ...   \n",
       "54352            False  NaN  ...  603f43a91cb174746468a43f   \n",
       "54398            False  NaN  ...  6127b8d6cc73bc2ae95e72e0   \n",
       "54436            False  NaN  ...  62728e2213ee8d0bf05e5366   \n",
       "54444            False  NaN  ...  62027a0e23f20665eb41b086   \n",
       "54446            False  NaN  ...  621df81f8fa7462b95d44507   \n",
       "\n",
       "                                    subtype requeued  \\\n",
       "39     419f63a7-66ab-4bee-88e2-afd52fb23052    False   \n",
       "54     df96f2cb-aa14-454f-a172-95d5abba6b73    False   \n",
       "77                                      NaN    False   \n",
       "99                                      NaN    False   \n",
       "112                                     NaN    False   \n",
       "...                                     ...      ...   \n",
       "54352                                   NaN    False   \n",
       "54398                                   NaN    False   \n",
       "54436                                   NaN    False   \n",
       "54444                                   NaN    False   \n",
       "54446                                   NaN    False   \n",
       "\n",
       "                                                   reply duration  \\\n",
       "39     Bonjour Clémence, Je suis en effet à la recher...      NaN   \n",
       "54     Bonjour  Désolé je suis actuellement en congés...      NaN   \n",
       "77     Bonjour,  Actuellement absente, avec un accès ...      NaN   \n",
       "99     Bonjour,  Je suis actuellement absente et sera...      NaN   \n",
       "112    Bonjour, je suis absent du mercredi 25 mai au ...      NaN   \n",
       "...                                                  ...      ...   \n",
       "54352  Bonjour,  Actuellement absente, vous pouvez co...      NaN   \n",
       "54398  Salut Thomas,  Très bien je te remercie, j’esp...      NaN   \n",
       "54436  Bonjour,  Je suis absent jusqu'au 30/05. Je pr...      NaN   \n",
       "54444  Bonjour,  actuellement en congé maternité, je ...      NaN   \n",
       "54446  Bonjour,  Je suis absente et serai de retour m...      NaN   \n",
       "\n",
       "                     templateid  actionid deleted  success label  \n",
       "39     625ed173c754f419b71c100a       NaN   False     True   NaN  \n",
       "54     627a8fe99b80b427c1e19551       NaN   False     True   NaN  \n",
       "77     627cdd0400b7b35e91f6c0be       NaN   False     True   NaN  \n",
       "99     628707075363ea470f9e7b25       NaN   False     True   NaN  \n",
       "112    62616ec541e6766974cf647f       NaN   False     True   NaN  \n",
       "...                         ...       ...     ...      ...   ...  \n",
       "54352  628209d7bbd61a7051a8851d       NaN   False     True   NaN  \n",
       "54398  628e2853dd8678265fb1bee9       NaN   False     True   NaN  \n",
       "54436  6273dad165b47b0bdac458ab       NaN   False     True   NaN  \n",
       "54444  62948228ebad282654c300be       NaN   False     True   NaN  \n",
       "54446  622630f7d9a70f3f37cb8d80       NaN   False     True   NaN  \n",
       "\n",
       "[4407 rows x 24 columns]"
      ]
     },
     "execution_count": 21,
     "metadata": {},
     "output_type": "execute_result"
    }
   ],
   "source": [
    "terms = ['congé', 'absen', 'restreint', 'vacances', 'ooo']\n",
    "merge[merge['reply'].str.contains(\"|\".join(terms),na=False)]"
   ]
  },
  {
   "cell_type": "code",
   "execution_count": 22,
   "id": "22fed47c",
   "metadata": {
    "ExecuteTime": {
     "end_time": "2022-06-02T16:22:27.309293Z",
     "start_time": "2022-06-02T16:22:27.284188Z"
    }
   },
   "outputs": [
    {
     "data": {
      "text/html": [
       "<div>\n",
       "<style scoped>\n",
       "    .dataframe tbody tr th:only-of-type {\n",
       "        vertical-align: middle;\n",
       "    }\n",
       "\n",
       "    .dataframe tbody tr th {\n",
       "        vertical-align: top;\n",
       "    }\n",
       "\n",
       "    .dataframe thead th {\n",
       "        text-align: right;\n",
       "    }\n",
       "</style>\n",
       "<table border=\"1\" class=\"dataframe\">\n",
       "  <thead>\n",
       "    <tr style=\"text-align: right;\">\n",
       "      <th></th>\n",
       "      <th>_id</th>\n",
       "      <th>reply</th>\n",
       "      <th>label</th>\n",
       "    </tr>\n",
       "  </thead>\n",
       "  <tbody>\n",
       "    <tr>\n",
       "      <th>0</th>\n",
       "      <td>628e7357a0020c26468eeacc</td>\n",
       "      <td>Not something we need. Maybe in 18 months. Tha...</td>\n",
       "      <td>neutral</td>\n",
       "    </tr>\n",
       "    <tr>\n",
       "      <th>1</th>\n",
       "      <td>62925729dd8678265fb5e7a7</td>\n",
       "      <td>Bonjour Yohan,  Merci pour votre message. Malh...</td>\n",
       "      <td>negative</td>\n",
       "    </tr>\n",
       "    <tr>\n",
       "      <th>2</th>\n",
       "      <td>62925559ebad282654c1abd9</td>\n",
       "      <td>Hi Mayank</td>\n",
       "      <td>NaN</td>\n",
       "    </tr>\n",
       "    <tr>\n",
       "      <th>3</th>\n",
       "      <td>6292b849ebad282654c1db70</td>\n",
       "      <td>Bonjour Antoine, Au plaisir de lire vos posts,...</td>\n",
       "      <td>neutral</td>\n",
       "    </tr>\n",
       "    <tr>\n",
       "      <th>4</th>\n",
       "      <td>628e7376ebad282654be48cf</td>\n",
       "      <td>Disons q4 :)</td>\n",
       "      <td>NaN</td>\n",
       "    </tr>\n",
       "    <tr>\n",
       "      <th>...</th>\n",
       "      <td>...</td>\n",
       "      <td>...</td>\n",
       "      <td>...</td>\n",
       "    </tr>\n",
       "    <tr>\n",
       "      <th>54447</th>\n",
       "      <td>6294f136a0020c2646953295</td>\n",
       "      <td>Merci</td>\n",
       "      <td>NaN</td>\n",
       "    </tr>\n",
       "    <tr>\n",
       "      <th>54448</th>\n",
       "      <td>6294efe2ebad282654c494e4</td>\n",
       "      <td>Dear sender, I'll be away until next week. If ...</td>\n",
       "      <td>NaN</td>\n",
       "    </tr>\n",
       "    <tr>\n",
       "      <th>54449</th>\n",
       "      <td>6294f09205f9d3263f7f290a</td>\n",
       "      <td>Bonjour David,  Navré pour ma réponse tardive....</td>\n",
       "      <td>NaN</td>\n",
       "    </tr>\n",
       "    <tr>\n",
       "      <th>54450</th>\n",
       "      <td>6294f06733904114ef2ee051</td>\n",
       "      <td>Bonjour  En déplacement du lundi 30 mai 2022 a...</td>\n",
       "      <td>NaN</td>\n",
       "    </tr>\n",
       "    <tr>\n",
       "      <th>54451</th>\n",
       "      <td>6294f1d4dd8678265fb8cc7a</td>\n",
       "      <td>Bonjour Kenza,  Merci de vous être tournée ver...</td>\n",
       "      <td>NaN</td>\n",
       "    </tr>\n",
       "  </tbody>\n",
       "</table>\n",
       "<p>54452 rows × 3 columns</p>\n",
       "</div>"
      ],
      "text/plain": [
       "                            _id  \\\n",
       "0      628e7357a0020c26468eeacc   \n",
       "1      62925729dd8678265fb5e7a7   \n",
       "2      62925559ebad282654c1abd9   \n",
       "3      6292b849ebad282654c1db70   \n",
       "4      628e7376ebad282654be48cf   \n",
       "...                         ...   \n",
       "54447  6294f136a0020c2646953295   \n",
       "54448  6294efe2ebad282654c494e4   \n",
       "54449  6294f09205f9d3263f7f290a   \n",
       "54450  6294f06733904114ef2ee051   \n",
       "54451  6294f1d4dd8678265fb8cc7a   \n",
       "\n",
       "                                                   reply     label  \n",
       "0      Not something we need. Maybe in 18 months. Tha...   neutral  \n",
       "1      Bonjour Yohan,  Merci pour votre message. Malh...  negative  \n",
       "2                                              Hi Mayank       NaN  \n",
       "3      Bonjour Antoine, Au plaisir de lire vos posts,...   neutral  \n",
       "4                                           Disons q4 :)       NaN  \n",
       "...                                                  ...       ...  \n",
       "54447                                              Merci       NaN  \n",
       "54448  Dear sender, I'll be away until next week. If ...       NaN  \n",
       "54449  Bonjour David,  Navré pour ma réponse tardive....       NaN  \n",
       "54450  Bonjour  En déplacement du lundi 30 mai 2022 a...       NaN  \n",
       "54451  Bonjour Kenza,  Merci de vous être tournée ver...       NaN  \n",
       "\n",
       "[54452 rows x 3 columns]"
      ]
     },
     "execution_count": 22,
     "metadata": {},
     "output_type": "execute_result"
    }
   ],
   "source": [
    "ooo_df = merge[['_id','reply','label']].copy()\n",
    "ooo_df"
   ]
  },
  {
   "cell_type": "code",
   "execution_count": 23,
   "id": "e81654b2",
   "metadata": {
    "ExecuteTime": {
     "end_time": "2022-06-02T16:22:27.662830Z",
     "start_time": "2022-06-02T16:22:27.315574Z"
    }
   },
   "outputs": [
    {
     "data": {
      "text/html": [
       "<div>\n",
       "<style scoped>\n",
       "    .dataframe tbody tr th:only-of-type {\n",
       "        vertical-align: middle;\n",
       "    }\n",
       "\n",
       "    .dataframe tbody tr th {\n",
       "        vertical-align: top;\n",
       "    }\n",
       "\n",
       "    .dataframe thead th {\n",
       "        text-align: right;\n",
       "    }\n",
       "</style>\n",
       "<table border=\"1\" class=\"dataframe\">\n",
       "  <thead>\n",
       "    <tr style=\"text-align: right;\">\n",
       "      <th></th>\n",
       "      <th>_id</th>\n",
       "      <th>reply</th>\n",
       "      <th>label</th>\n",
       "    </tr>\n",
       "  </thead>\n",
       "  <tbody>\n",
       "    <tr>\n",
       "      <th>39</th>\n",
       "      <td>628e8cab05f9d3263f78f3e7</td>\n",
       "      <td>Bonjour Clémence, Je suis en effet à la recher...</td>\n",
       "      <td>NaN</td>\n",
       "    </tr>\n",
       "    <tr>\n",
       "      <th>54</th>\n",
       "      <td>628e9874dd8678265fb2acd7</td>\n",
       "      <td>Bonjour  Désolé je suis actuellement en congés...</td>\n",
       "      <td>NaN</td>\n",
       "    </tr>\n",
       "    <tr>\n",
       "      <th>77</th>\n",
       "      <td>628eb3b305f9d3263f7912b6</td>\n",
       "      <td>Bonjour,  Actuellement absente, avec un accès ...</td>\n",
       "      <td>NaN</td>\n",
       "    </tr>\n",
       "    <tr>\n",
       "      <th>99</th>\n",
       "      <td>628ee29005f9d3263f792d3c</td>\n",
       "      <td>Bonjour,  Je suis actuellement absente et sera...</td>\n",
       "      <td>NaN</td>\n",
       "    </tr>\n",
       "    <tr>\n",
       "      <th>112</th>\n",
       "      <td>628f1171dd8678265fb2ef75</td>\n",
       "      <td>Bonjour, je suis absent du mercredi 25 mai au ...</td>\n",
       "      <td>NaN</td>\n",
       "    </tr>\n",
       "    <tr>\n",
       "      <th>...</th>\n",
       "      <td>...</td>\n",
       "      <td>...</td>\n",
       "      <td>...</td>\n",
       "    </tr>\n",
       "    <tr>\n",
       "      <th>54352</th>\n",
       "      <td>6294de4f05f9d3263f7eed85</td>\n",
       "      <td>Bonjour,  Actuellement absente, vous pouvez co...</td>\n",
       "      <td>NaN</td>\n",
       "    </tr>\n",
       "    <tr>\n",
       "      <th>54398</th>\n",
       "      <td>6294e553ebad282654c4742b</td>\n",
       "      <td>Salut Thomas,  Très bien je te remercie, j’esp...</td>\n",
       "      <td>NaN</td>\n",
       "    </tr>\n",
       "    <tr>\n",
       "      <th>54436</th>\n",
       "      <td>6294ec6105f9d3263f7f1d3e</td>\n",
       "      <td>Bonjour,  Je suis absent jusqu'au 30/05. Je pr...</td>\n",
       "      <td>NaN</td>\n",
       "    </tr>\n",
       "    <tr>\n",
       "      <th>54444</th>\n",
       "      <td>6294eec1ebad282654c4925c</td>\n",
       "      <td>Bonjour,  actuellement en congé maternité, je ...</td>\n",
       "      <td>NaN</td>\n",
       "    </tr>\n",
       "    <tr>\n",
       "      <th>54446</th>\n",
       "      <td>6294ee9debad282654c48fd5</td>\n",
       "      <td>Bonjour,  Je suis absente et serai de retour m...</td>\n",
       "      <td>NaN</td>\n",
       "    </tr>\n",
       "  </tbody>\n",
       "</table>\n",
       "<p>4407 rows × 3 columns</p>\n",
       "</div>"
      ],
      "text/plain": [
       "                            _id  \\\n",
       "39     628e8cab05f9d3263f78f3e7   \n",
       "54     628e9874dd8678265fb2acd7   \n",
       "77     628eb3b305f9d3263f7912b6   \n",
       "99     628ee29005f9d3263f792d3c   \n",
       "112    628f1171dd8678265fb2ef75   \n",
       "...                         ...   \n",
       "54352  6294de4f05f9d3263f7eed85   \n",
       "54398  6294e553ebad282654c4742b   \n",
       "54436  6294ec6105f9d3263f7f1d3e   \n",
       "54444  6294eec1ebad282654c4925c   \n",
       "54446  6294ee9debad282654c48fd5   \n",
       "\n",
       "                                                   reply label  \n",
       "39     Bonjour Clémence, Je suis en effet à la recher...   NaN  \n",
       "54     Bonjour  Désolé je suis actuellement en congés...   NaN  \n",
       "77     Bonjour,  Actuellement absente, avec un accès ...   NaN  \n",
       "99     Bonjour,  Je suis actuellement absente et sera...   NaN  \n",
       "112    Bonjour, je suis absent du mercredi 25 mai au ...   NaN  \n",
       "...                                                  ...   ...  \n",
       "54352  Bonjour,  Actuellement absente, vous pouvez co...   NaN  \n",
       "54398  Salut Thomas,  Très bien je te remercie, j’esp...   NaN  \n",
       "54436  Bonjour,  Je suis absent jusqu'au 30/05. Je pr...   NaN  \n",
       "54444  Bonjour,  actuellement en congé maternité, je ...   NaN  \n",
       "54446  Bonjour,  Je suis absente et serai de retour m...   NaN  \n",
       "\n",
       "[4407 rows x 3 columns]"
      ]
     },
     "execution_count": 23,
     "metadata": {},
     "output_type": "execute_result"
    }
   ],
   "source": [
    "labels = ['positive', 'negative', 'neutral']\n",
    "terms = ['congé', 'absen', 'restreint', 'vacances', 'ooo']\n",
    "ooo_df[ooo_df['reply'].str.contains(\"|\".join(terms),na=False)]"
   ]
  },
  {
   "cell_type": "code",
   "execution_count": 24,
   "id": "67b52bcd",
   "metadata": {
    "ExecuteTime": {
     "end_time": "2022-06-02T16:22:27.673997Z",
     "start_time": "2022-06-02T16:22:27.667335Z"
    }
   },
   "outputs": [],
   "source": [
    "#ooo_df[ooo_df['label'].str.contains(\"|\".join(labels),na=False)]"
   ]
  },
  {
   "cell_type": "code",
   "execution_count": 25,
   "id": "85e67617",
   "metadata": {
    "ExecuteTime": {
     "end_time": "2022-06-02T16:22:27.684383Z",
     "start_time": "2022-06-02T16:22:27.679046Z"
    }
   },
   "outputs": [],
   "source": [
    "#ooo_df['ooo'] = ooo_df['label'].map(lambda x: is_not_out_office(x))"
   ]
  },
  {
   "cell_type": "code",
   "execution_count": 26,
   "id": "9f03ecff",
   "metadata": {
    "ExecuteTime": {
     "end_time": "2022-06-02T16:22:27.705668Z",
     "start_time": "2022-06-02T16:22:27.690463Z"
    }
   },
   "outputs": [
    {
     "data": {
      "text/html": [
       "<div>\n",
       "<style scoped>\n",
       "    .dataframe tbody tr th:only-of-type {\n",
       "        vertical-align: middle;\n",
       "    }\n",
       "\n",
       "    .dataframe tbody tr th {\n",
       "        vertical-align: top;\n",
       "    }\n",
       "\n",
       "    .dataframe thead th {\n",
       "        text-align: right;\n",
       "    }\n",
       "</style>\n",
       "<table border=\"1\" class=\"dataframe\">\n",
       "  <thead>\n",
       "    <tr style=\"text-align: right;\">\n",
       "      <th></th>\n",
       "      <th>_id</th>\n",
       "      <th>reply</th>\n",
       "      <th>label</th>\n",
       "    </tr>\n",
       "  </thead>\n",
       "  <tbody>\n",
       "    <tr>\n",
       "      <th>0</th>\n",
       "      <td>628e7357a0020c26468eeacc</td>\n",
       "      <td>Not something we need. Maybe in 18 months. Tha...</td>\n",
       "      <td>neutral</td>\n",
       "    </tr>\n",
       "    <tr>\n",
       "      <th>1</th>\n",
       "      <td>62925729dd8678265fb5e7a7</td>\n",
       "      <td>Bonjour Yohan,  Merci pour votre message. Malh...</td>\n",
       "      <td>negative</td>\n",
       "    </tr>\n",
       "    <tr>\n",
       "      <th>2</th>\n",
       "      <td>62925559ebad282654c1abd9</td>\n",
       "      <td>Hi Mayank</td>\n",
       "      <td>NaN</td>\n",
       "    </tr>\n",
       "    <tr>\n",
       "      <th>3</th>\n",
       "      <td>6292b849ebad282654c1db70</td>\n",
       "      <td>Bonjour Antoine, Au plaisir de lire vos posts,...</td>\n",
       "      <td>neutral</td>\n",
       "    </tr>\n",
       "    <tr>\n",
       "      <th>4</th>\n",
       "      <td>628e7376ebad282654be48cf</td>\n",
       "      <td>Disons q4 :)</td>\n",
       "      <td>NaN</td>\n",
       "    </tr>\n",
       "    <tr>\n",
       "      <th>...</th>\n",
       "      <td>...</td>\n",
       "      <td>...</td>\n",
       "      <td>...</td>\n",
       "    </tr>\n",
       "    <tr>\n",
       "      <th>54447</th>\n",
       "      <td>6294f136a0020c2646953295</td>\n",
       "      <td>Merci</td>\n",
       "      <td>NaN</td>\n",
       "    </tr>\n",
       "    <tr>\n",
       "      <th>54448</th>\n",
       "      <td>6294efe2ebad282654c494e4</td>\n",
       "      <td>Dear sender, I'll be away until next week. If ...</td>\n",
       "      <td>NaN</td>\n",
       "    </tr>\n",
       "    <tr>\n",
       "      <th>54449</th>\n",
       "      <td>6294f09205f9d3263f7f290a</td>\n",
       "      <td>Bonjour David,  Navré pour ma réponse tardive....</td>\n",
       "      <td>NaN</td>\n",
       "    </tr>\n",
       "    <tr>\n",
       "      <th>54450</th>\n",
       "      <td>6294f06733904114ef2ee051</td>\n",
       "      <td>Bonjour  En déplacement du lundi 30 mai 2022 a...</td>\n",
       "      <td>NaN</td>\n",
       "    </tr>\n",
       "    <tr>\n",
       "      <th>54451</th>\n",
       "      <td>6294f1d4dd8678265fb8cc7a</td>\n",
       "      <td>Bonjour Kenza,  Merci de vous être tournée ver...</td>\n",
       "      <td>NaN</td>\n",
       "    </tr>\n",
       "  </tbody>\n",
       "</table>\n",
       "<p>54452 rows × 3 columns</p>\n",
       "</div>"
      ],
      "text/plain": [
       "                            _id  \\\n",
       "0      628e7357a0020c26468eeacc   \n",
       "1      62925729dd8678265fb5e7a7   \n",
       "2      62925559ebad282654c1abd9   \n",
       "3      6292b849ebad282654c1db70   \n",
       "4      628e7376ebad282654be48cf   \n",
       "...                         ...   \n",
       "54447  6294f136a0020c2646953295   \n",
       "54448  6294efe2ebad282654c494e4   \n",
       "54449  6294f09205f9d3263f7f290a   \n",
       "54450  6294f06733904114ef2ee051   \n",
       "54451  6294f1d4dd8678265fb8cc7a   \n",
       "\n",
       "                                                   reply     label  \n",
       "0      Not something we need. Maybe in 18 months. Tha...   neutral  \n",
       "1      Bonjour Yohan,  Merci pour votre message. Malh...  negative  \n",
       "2                                              Hi Mayank       NaN  \n",
       "3      Bonjour Antoine, Au plaisir de lire vos posts,...   neutral  \n",
       "4                                           Disons q4 :)       NaN  \n",
       "...                                                  ...       ...  \n",
       "54447                                              Merci       NaN  \n",
       "54448  Dear sender, I'll be away until next week. If ...       NaN  \n",
       "54449  Bonjour David,  Navré pour ma réponse tardive....       NaN  \n",
       "54450  Bonjour  En déplacement du lundi 30 mai 2022 a...       NaN  \n",
       "54451  Bonjour Kenza,  Merci de vous être tournée ver...       NaN  \n",
       "\n",
       "[54452 rows x 3 columns]"
      ]
     },
     "execution_count": 26,
     "metadata": {},
     "output_type": "execute_result"
    }
   ],
   "source": [
    "ooo_df"
   ]
  },
  {
   "cell_type": "code",
   "execution_count": 27,
   "id": "2b7cdda4",
   "metadata": {
    "ExecuteTime": {
     "end_time": "2022-06-02T16:22:27.811711Z",
     "start_time": "2022-06-02T16:22:27.716943Z"
    }
   },
   "outputs": [],
   "source": [
    "def is_out_of_office_max(x,y):\n",
    "    string = str(y)\n",
    "    substring = 'absen'\n",
    "    if x == 'negative':\n",
    "        return 0\n",
    "    elif x == 'neutral':\n",
    "        return 0\n",
    "    elif x == 'positive':\n",
    "        return 0\n",
    "    elif substring in string:\n",
    "        return 1\n",
    "    else:\n",
    "        return 'unknow'\n",
    "    \n"
   ]
  },
  {
   "cell_type": "code",
   "execution_count": 28,
   "id": "b4f29baa",
   "metadata": {
    "ExecuteTime": {
     "end_time": "2022-06-02T16:22:28.717369Z",
     "start_time": "2022-06-02T16:22:27.857540Z"
    }
   },
   "outputs": [],
   "source": [
    "ooo_df['ooo'] = ooo_df.apply(lambda x: is_out_of_office_max(x['label'],x['reply']), axis=1)"
   ]
  },
  {
   "cell_type": "code",
   "execution_count": 29,
   "id": "ee994ff0",
   "metadata": {
    "ExecuteTime": {
     "end_time": "2022-06-02T16:22:28.738498Z",
     "start_time": "2022-06-02T16:22:28.720346Z"
    }
   },
   "outputs": [
    {
     "data": {
      "text/html": [
       "<div>\n",
       "<style scoped>\n",
       "    .dataframe tbody tr th:only-of-type {\n",
       "        vertical-align: middle;\n",
       "    }\n",
       "\n",
       "    .dataframe tbody tr th {\n",
       "        vertical-align: top;\n",
       "    }\n",
       "\n",
       "    .dataframe thead th {\n",
       "        text-align: right;\n",
       "    }\n",
       "</style>\n",
       "<table border=\"1\" class=\"dataframe\">\n",
       "  <thead>\n",
       "    <tr style=\"text-align: right;\">\n",
       "      <th></th>\n",
       "      <th>_id</th>\n",
       "      <th>reply</th>\n",
       "      <th>label</th>\n",
       "      <th>ooo</th>\n",
       "    </tr>\n",
       "  </thead>\n",
       "  <tbody>\n",
       "    <tr>\n",
       "      <th>0</th>\n",
       "      <td>628e7357a0020c26468eeacc</td>\n",
       "      <td>Not something we need. Maybe in 18 months. Tha...</td>\n",
       "      <td>neutral</td>\n",
       "      <td>0</td>\n",
       "    </tr>\n",
       "    <tr>\n",
       "      <th>1</th>\n",
       "      <td>62925729dd8678265fb5e7a7</td>\n",
       "      <td>Bonjour Yohan,  Merci pour votre message. Malh...</td>\n",
       "      <td>negative</td>\n",
       "      <td>0</td>\n",
       "    </tr>\n",
       "    <tr>\n",
       "      <th>2</th>\n",
       "      <td>62925559ebad282654c1abd9</td>\n",
       "      <td>Hi Mayank</td>\n",
       "      <td>NaN</td>\n",
       "      <td>unknow</td>\n",
       "    </tr>\n",
       "    <tr>\n",
       "      <th>3</th>\n",
       "      <td>6292b849ebad282654c1db70</td>\n",
       "      <td>Bonjour Antoine, Au plaisir de lire vos posts,...</td>\n",
       "      <td>neutral</td>\n",
       "      <td>0</td>\n",
       "    </tr>\n",
       "    <tr>\n",
       "      <th>4</th>\n",
       "      <td>628e7376ebad282654be48cf</td>\n",
       "      <td>Disons q4 :)</td>\n",
       "      <td>NaN</td>\n",
       "      <td>unknow</td>\n",
       "    </tr>\n",
       "    <tr>\n",
       "      <th>...</th>\n",
       "      <td>...</td>\n",
       "      <td>...</td>\n",
       "      <td>...</td>\n",
       "      <td>...</td>\n",
       "    </tr>\n",
       "    <tr>\n",
       "      <th>54447</th>\n",
       "      <td>6294f136a0020c2646953295</td>\n",
       "      <td>Merci</td>\n",
       "      <td>NaN</td>\n",
       "      <td>unknow</td>\n",
       "    </tr>\n",
       "    <tr>\n",
       "      <th>54448</th>\n",
       "      <td>6294efe2ebad282654c494e4</td>\n",
       "      <td>Dear sender, I'll be away until next week. If ...</td>\n",
       "      <td>NaN</td>\n",
       "      <td>unknow</td>\n",
       "    </tr>\n",
       "    <tr>\n",
       "      <th>54449</th>\n",
       "      <td>6294f09205f9d3263f7f290a</td>\n",
       "      <td>Bonjour David,  Navré pour ma réponse tardive....</td>\n",
       "      <td>NaN</td>\n",
       "      <td>unknow</td>\n",
       "    </tr>\n",
       "    <tr>\n",
       "      <th>54450</th>\n",
       "      <td>6294f06733904114ef2ee051</td>\n",
       "      <td>Bonjour  En déplacement du lundi 30 mai 2022 a...</td>\n",
       "      <td>NaN</td>\n",
       "      <td>unknow</td>\n",
       "    </tr>\n",
       "    <tr>\n",
       "      <th>54451</th>\n",
       "      <td>6294f1d4dd8678265fb8cc7a</td>\n",
       "      <td>Bonjour Kenza,  Merci de vous être tournée ver...</td>\n",
       "      <td>NaN</td>\n",
       "      <td>unknow</td>\n",
       "    </tr>\n",
       "  </tbody>\n",
       "</table>\n",
       "<p>54452 rows × 4 columns</p>\n",
       "</div>"
      ],
      "text/plain": [
       "                            _id  \\\n",
       "0      628e7357a0020c26468eeacc   \n",
       "1      62925729dd8678265fb5e7a7   \n",
       "2      62925559ebad282654c1abd9   \n",
       "3      6292b849ebad282654c1db70   \n",
       "4      628e7376ebad282654be48cf   \n",
       "...                         ...   \n",
       "54447  6294f136a0020c2646953295   \n",
       "54448  6294efe2ebad282654c494e4   \n",
       "54449  6294f09205f9d3263f7f290a   \n",
       "54450  6294f06733904114ef2ee051   \n",
       "54451  6294f1d4dd8678265fb8cc7a   \n",
       "\n",
       "                                                   reply     label     ooo  \n",
       "0      Not something we need. Maybe in 18 months. Tha...   neutral       0  \n",
       "1      Bonjour Yohan,  Merci pour votre message. Malh...  negative       0  \n",
       "2                                              Hi Mayank       NaN  unknow  \n",
       "3      Bonjour Antoine, Au plaisir de lire vos posts,...   neutral       0  \n",
       "4                                           Disons q4 :)       NaN  unknow  \n",
       "...                                                  ...       ...     ...  \n",
       "54447                                              Merci       NaN  unknow  \n",
       "54448  Dear sender, I'll be away until next week. If ...       NaN  unknow  \n",
       "54449  Bonjour David,  Navré pour ma réponse tardive....       NaN  unknow  \n",
       "54450  Bonjour  En déplacement du lundi 30 mai 2022 a...       NaN  unknow  \n",
       "54451  Bonjour Kenza,  Merci de vous être tournée ver...       NaN  unknow  \n",
       "\n",
       "[54452 rows x 4 columns]"
      ]
     },
     "execution_count": 29,
     "metadata": {},
     "output_type": "execute_result"
    }
   ],
   "source": [
    "ooo_df"
   ]
  },
  {
   "cell_type": "code",
   "execution_count": 30,
   "id": "c9b93402",
   "metadata": {
    "ExecuteTime": {
     "end_time": "2022-06-02T16:22:28.768728Z",
     "start_time": "2022-06-02T16:22:28.743860Z"
    }
   },
   "outputs": [],
   "source": [
    "model_df = ooo_df[ooo_df['ooo'] != 'unknow']"
   ]
  },
  {
   "cell_type": "code",
   "execution_count": 31,
   "id": "f2dc3794",
   "metadata": {
    "ExecuteTime": {
     "end_time": "2022-06-02T16:22:28.797953Z",
     "start_time": "2022-06-02T16:22:28.788357Z"
    }
   },
   "outputs": [],
   "source": [
    "X = model_df['reply'].values"
   ]
  },
  {
   "cell_type": "code",
   "execution_count": 32,
   "id": "0392b352",
   "metadata": {
    "ExecuteTime": {
     "end_time": "2022-06-02T16:22:28.822732Z",
     "start_time": "2022-06-02T16:22:28.807084Z"
    }
   },
   "outputs": [],
   "source": [
    "y = model_df['ooo'].values"
   ]
  },
  {
   "cell_type": "code",
   "execution_count": 33,
   "id": "fb77127e",
   "metadata": {
    "ExecuteTime": {
     "end_time": "2022-06-02T16:22:29.514901Z",
     "start_time": "2022-06-02T16:22:29.506824Z"
    }
   },
   "outputs": [],
   "source": [
    "y = y.astype('int64')"
   ]
  },
  {
   "cell_type": "code",
   "execution_count": 34,
   "id": "d100b113",
   "metadata": {
    "ExecuteTime": {
     "end_time": "2022-06-02T16:22:29.728482Z",
     "start_time": "2022-06-02T16:22:29.716087Z"
    }
   },
   "outputs": [
    {
     "data": {
      "text/plain": [
       "array(['Not something we need. Maybe in 18 months. Thanks! ',\n",
       "       'Bonjour Yohan,  Merci pour votre message. Malheureusement je viens de commencer un nouveau contrat dans un cabinet de conseil. Donc pas de changement de prévu pour tout de suite 🙂  Bonne journée ! Yajing',\n",
       "       'Bonjour Antoine, Au plaisir de lire vos posts, je vous souhaite une très belle fin de journée. Damien J EVEQUOZ  ',\n",
       "       ...,\n",
       "       'Bonjour,  Actuellement absente, vous pouvez contacter mathieu.deschamps@boursorama.fr en cas de besoin.  Cordialement Aude  ',\n",
       "       \"Bonjour,  Je suis absent jusqu'au 30/05. Je prendrai connaissance de votre message à mon retour le 31/05. En cas d'urgence, merci de contacter Célia Rierny celia.rierny@ocp.fr.  Cordialement  Aymeric   \",\n",
       "       'Bonjour,  Je suis absente et serai de retour mercredi 1er juin.  Merci, Yseult ----------------  Hello,  I am out of office and will be back on Wednesday June 1st.  Thanks, Yseult   ________________________________   This e-mail may contain proprietary information and/or copyright material. This e-mail is intended for the use of the addressee only. Any unauthorized use may be unlawful. If you receive this e-mail by mistake, please advise the sender immediately by using the reply facility in your e-mail software. Information contained in and/or attached to this document may be subject to export control regulations of the European Community, USA, or other countries. Each recipient of this document is responsible to ensure that usage and/or transfer of any information contained in this document complies with all relevant export control regulations. If you are in any doubt about the export control restrictions that apply to this information, please contact the sender immediately. Be aware that Meggitt may monitor incoming and outgoing e-mails to ensure compliance with the Meggitt IT Use policy. Unless otherwise agreed by Meggitt, products and services are supplied on the terms of the Meggitt Standard Global Terms and Conditions of Sale available at www.meggitt.com or on request. .  '],\n",
       "      dtype=object)"
      ]
     },
     "execution_count": 34,
     "metadata": {},
     "output_type": "execute_result"
    }
   ],
   "source": [
    "X"
   ]
  },
  {
   "cell_type": "code",
   "execution_count": 35,
   "id": "9a4dae3d",
   "metadata": {
    "ExecuteTime": {
     "end_time": "2022-06-02T16:22:29.919850Z",
     "start_time": "2022-06-02T16:22:29.909837Z"
    }
   },
   "outputs": [],
   "source": [
    "from tensorflow.keras.preprocessing.text import text_to_word_sequence"
   ]
  },
  {
   "cell_type": "code",
   "execution_count": 36,
   "id": "e253147a",
   "metadata": {
    "ExecuteTime": {
     "end_time": "2022-06-02T16:22:30.142280Z",
     "start_time": "2022-06-02T16:22:30.119197Z"
    }
   },
   "outputs": [],
   "source": [
    "from sklearn.model_selection import train_test_split"
   ]
  },
  {
   "cell_type": "code",
   "execution_count": 37,
   "id": "272f5318",
   "metadata": {
    "ExecuteTime": {
     "end_time": "2022-06-02T16:22:30.358661Z",
     "start_time": "2022-06-02T16:22:30.341873Z"
    }
   },
   "outputs": [],
   "source": [
    "X_train, X_test, y_train, y_test = train_test_split(X, y, test_size=0.3)"
   ]
  },
  {
   "cell_type": "code",
   "execution_count": 38,
   "id": "34529456",
   "metadata": {
    "ExecuteTime": {
     "end_time": "2022-06-02T16:22:30.592278Z",
     "start_time": "2022-06-02T16:22:30.577661Z"
    }
   },
   "outputs": [
    {
     "data": {
      "text/plain": [
       "array([1, 0, 1, ..., 1, 1, 1])"
      ]
     },
     "execution_count": 38,
     "metadata": {},
     "output_type": "execute_result"
    }
   ],
   "source": [
    "y_train"
   ]
  },
  {
   "cell_type": "code",
   "execution_count": 39,
   "id": "a17bd40b",
   "metadata": {
    "ExecuteTime": {
     "end_time": "2022-06-02T16:22:31.041544Z",
     "start_time": "2022-06-02T16:22:30.775166Z"
    }
   },
   "outputs": [],
   "source": [
    "X_train_word = [text_to_word_sequence(_,lower=False) for _ in X_train]\n",
    "X_test_word = [text_to_word_sequence(_,lower=False) for _ in X_test]"
   ]
  },
  {
   "cell_type": "code",
   "execution_count": 40,
   "id": "f9d97266",
   "metadata": {
    "ExecuteTime": {
     "end_time": "2022-06-02T16:22:32.595681Z",
     "start_time": "2022-06-02T16:22:31.050503Z"
    }
   },
   "outputs": [],
   "source": [
    "from gensim.models import Word2Vec\n",
    "\n",
    "word2vec = Word2Vec(sentences=X_train_word, vector_size=60, min_count=10, window=10)"
   ]
  },
  {
   "cell_type": "code",
   "execution_count": 41,
   "id": "3a1d1b8b",
   "metadata": {
    "ExecuteTime": {
     "end_time": "2022-06-02T16:22:32.612662Z",
     "start_time": "2022-06-02T16:22:32.602040Z"
    }
   },
   "outputs": [],
   "source": [
    "from tensorflow.keras.preprocessing.sequence import pad_sequences\n",
    "import numpy as np"
   ]
  },
  {
   "cell_type": "code",
   "execution_count": 42,
   "id": "6b3086ec",
   "metadata": {
    "ExecuteTime": {
     "end_time": "2022-06-02T16:22:35.383985Z",
     "start_time": "2022-06-02T16:22:32.622826Z"
    }
   },
   "outputs": [],
   "source": [
    "# Function to convert a sentence (list of words) into a matrix representing the words in the embedding space\n",
    "def embed_sentence(word2vec, sentence):\n",
    "    embedded_sentence = []\n",
    "    for word in sentence:\n",
    "        if word in word2vec.wv:\n",
    "            embedded_sentence.append(word2vec.wv[word])\n",
    "        \n",
    "    return np.array(embedded_sentence)\n",
    "\n",
    "# Function that converts a list of sentences into a list of matrices\n",
    "def embedding(word2vec, sentences):\n",
    "    embed = []\n",
    "    \n",
    "    for sentence in sentences:\n",
    "        embedded_sentence = embed_sentence(word2vec, sentence)\n",
    "        embed.append(embedded_sentence)\n",
    "        \n",
    "    return embed\n",
    "\n",
    "# Embed the training and test sentences\n",
    "X_train_embed = embedding(word2vec, X_train)\n",
    "X_test_embed = embedding(word2vec, X_test)"
   ]
  },
  {
   "cell_type": "code",
   "execution_count": 43,
   "id": "658e26df",
   "metadata": {
    "ExecuteTime": {
     "end_time": "2022-06-02T16:22:35.550373Z",
     "start_time": "2022-06-02T16:22:35.392884Z"
    }
   },
   "outputs": [],
   "source": [
    "# Pad the training and test embedded sentences\n",
    "X_train_pad = pad_sequences(X_train_embed, dtype='float32', padding='post', maxlen=200)\n",
    "X_test_pad = pad_sequences(X_test_embed, dtype='float32', padding='post', maxlen=200)"
   ]
  },
  {
   "cell_type": "code",
   "execution_count": 44,
   "id": "1751b74a",
   "metadata": {
    "ExecuteTime": {
     "end_time": "2022-06-02T16:22:35.570365Z",
     "start_time": "2022-06-02T16:22:35.555441Z"
    }
   },
   "outputs": [],
   "source": [
    "# TEST ME\n",
    "for X in [X_train_pad, X_test_pad]:\n",
    "    assert type(X) == np.ndarray\n",
    "    assert X.shape[-1] == word2vec.wv.vector_size\n",
    "\n",
    "\n",
    "assert X_train_pad.shape[0] == len(X_train)\n",
    "assert X_test_pad.shape[0] == len(X_test)"
   ]
  },
  {
   "cell_type": "code",
   "execution_count": 45,
   "id": "7a6b2f57",
   "metadata": {
    "ExecuteTime": {
     "end_time": "2022-06-02T16:22:35.591452Z",
     "start_time": "2022-06-02T16:22:35.577508Z"
    }
   },
   "outputs": [
    {
     "name": "stdout",
     "output_type": "stream",
     "text": [
      "Number of labels in train set {0: 607, 1: 1888}\n"
     ]
    }
   ],
   "source": [
    "from sklearn.metrics import accuracy_score\n",
    "\n",
    "unique, counts = np.unique(y_train, return_counts=True)\n",
    "counts = dict(zip(unique, counts))\n",
    "print('Number of labels in train set', counts)\n",
    "\n",
    "y_pred = 0 if counts[0] > counts[1] else 1\n"
   ]
  },
  {
   "cell_type": "code",
   "execution_count": 46,
   "id": "8c7a8806",
   "metadata": {
    "ExecuteTime": {
     "end_time": "2022-06-02T16:22:35.628261Z",
     "start_time": "2022-06-02T16:22:35.611821Z"
    }
   },
   "outputs": [
    {
     "name": "stdout",
     "output_type": "stream",
     "text": [
      "Baseline accuracy:  0.7598130841121495\n"
     ]
    }
   ],
   "source": [
    "print('Baseline accuracy: ', accuracy_score(y_test, [y_pred]*len(y_test)))"
   ]
  },
  {
   "cell_type": "code",
   "execution_count": 47,
   "id": "b382c1c5",
   "metadata": {
    "ExecuteTime": {
     "end_time": "2022-06-02T16:22:35.829938Z",
     "start_time": "2022-06-02T16:22:35.635396Z"
    }
   },
   "outputs": [],
   "source": [
    "from tensorflow.keras import Sequential\n",
    "from tensorflow.keras import layers\n",
    "\n",
    "def init_model():\n",
    "    model = Sequential()\n",
    "    model.add(layers.Masking())\n",
    "    model.add(layers.LSTM(20, activation='tanh'))\n",
    "    model.add(layers.Dense(15, activation='relu'))\n",
    "    model.add(layers.Dense(1, activation='sigmoid'))\n",
    "\n",
    "    model.compile(loss='binary_crossentropy',\n",
    "                  optimizer='rmsprop',\n",
    "                  metrics=['accuracy'])\n",
    "    \n",
    "    return model\n",
    "\n",
    "model = init_model()"
   ]
  },
  {
   "cell_type": "code",
   "execution_count": 48,
   "id": "55909e76",
   "metadata": {
    "ExecuteTime": {
     "end_time": "2022-06-02T16:22:35.841777Z",
     "start_time": "2022-06-02T16:22:35.835256Z"
    }
   },
   "outputs": [],
   "source": [
    "#import tensorflow as tf"
   ]
  },
  {
   "cell_type": "code",
   "execution_count": 49,
   "id": "8eb91a54",
   "metadata": {
    "ExecuteTime": {
     "end_time": "2022-06-02T16:22:35.869639Z",
     "start_time": "2022-06-02T16:22:35.856554Z"
    }
   },
   "outputs": [
    {
     "data": {
      "text/plain": [
       "array([0, 1, 1, ..., 1, 1, 1])"
      ]
     },
     "execution_count": 49,
     "metadata": {},
     "output_type": "execute_result"
    }
   ],
   "source": [
    "y_test"
   ]
  },
  {
   "cell_type": "code",
   "execution_count": 50,
   "id": "de27be62",
   "metadata": {
    "ExecuteTime": {
     "end_time": "2022-06-02T16:26:05.688153Z",
     "start_time": "2022-06-02T16:22:35.876048Z"
    }
   },
   "outputs": [
    {
     "name": "stdout",
     "output_type": "stream",
     "text": [
      "Epoch 1/100\n",
      "55/55 [==============================] - 14s 139ms/step - loss: 0.5691 - accuracy: 0.7474 - val_loss: 0.5186 - val_accuracy: 0.7704\n",
      "Epoch 2/100\n",
      "55/55 [==============================] - 6s 116ms/step - loss: 0.5384 - accuracy: 0.7514 - val_loss: 0.5221 - val_accuracy: 0.7704\n",
      "Epoch 3/100\n",
      "55/55 [==============================] - 7s 124ms/step - loss: 0.5286 - accuracy: 0.7514 - val_loss: 0.5045 - val_accuracy: 0.7824\n",
      "Epoch 4/100\n",
      "55/55 [==============================] - 7s 129ms/step - loss: 0.5170 - accuracy: 0.7532 - val_loss: 0.4955 - val_accuracy: 0.7810\n",
      "Epoch 5/100\n",
      "55/55 [==============================] - 8s 142ms/step - loss: 0.5076 - accuracy: 0.7532 - val_loss: 0.4642 - val_accuracy: 0.7824\n",
      "Epoch 6/100\n",
      "55/55 [==============================] - 9s 155ms/step - loss: 0.5098 - accuracy: 0.7572 - val_loss: 0.4582 - val_accuracy: 0.7824\n",
      "Epoch 7/100\n",
      "55/55 [==============================] - 7s 133ms/step - loss: 0.4812 - accuracy: 0.7652 - val_loss: 0.4379 - val_accuracy: 0.7944\n",
      "Epoch 8/100\n",
      "55/55 [==============================] - 7s 133ms/step - loss: 0.4690 - accuracy: 0.7686 - val_loss: 0.5494 - val_accuracy: 0.7770\n",
      "Epoch 9/100\n",
      "55/55 [==============================] - 7s 132ms/step - loss: 0.4505 - accuracy: 0.7869 - val_loss: 0.4154 - val_accuracy: 0.8224\n",
      "Epoch 10/100\n",
      "55/55 [==============================] - 7s 135ms/step - loss: 0.4378 - accuracy: 0.8150 - val_loss: 0.4153 - val_accuracy: 0.8371\n",
      "Epoch 11/100\n",
      "55/55 [==============================] - 7s 135ms/step - loss: 0.4113 - accuracy: 0.8184 - val_loss: 0.4527 - val_accuracy: 0.7437\n",
      "Epoch 12/100\n",
      "55/55 [==============================] - 7s 136ms/step - loss: 0.4343 - accuracy: 0.7680 - val_loss: 0.4181 - val_accuracy: 0.7770\n",
      "Epoch 13/100\n",
      "55/55 [==============================] - 7s 136ms/step - loss: 0.4257 - accuracy: 0.7961 - val_loss: 0.4146 - val_accuracy: 0.7917\n",
      "Epoch 14/100\n",
      "55/55 [==============================] - 8s 147ms/step - loss: 0.4710 - accuracy: 0.7514 - val_loss: 0.4863 - val_accuracy: 0.8064\n",
      "Epoch 15/100\n",
      "55/55 [==============================] - 7s 136ms/step - loss: 0.4467 - accuracy: 0.7703 - val_loss: 0.4035 - val_accuracy: 0.8278\n",
      "Epoch 16/100\n",
      "55/55 [==============================] - 8s 141ms/step - loss: 0.4291 - accuracy: 0.7772 - val_loss: 0.4668 - val_accuracy: 0.7236\n",
      "Epoch 17/100\n",
      "55/55 [==============================] - 7s 136ms/step - loss: 0.3937 - accuracy: 0.8219 - val_loss: 0.4806 - val_accuracy: 0.8184\n",
      "Epoch 18/100\n",
      "55/55 [==============================] - 8s 137ms/step - loss: 0.3996 - accuracy: 0.8368 - val_loss: 0.4017 - val_accuracy: 0.8465\n",
      "Epoch 19/100\n",
      "55/55 [==============================] - 8s 146ms/step - loss: 0.3942 - accuracy: 0.8339 - val_loss: 0.3897 - val_accuracy: 0.8184\n",
      "Epoch 20/100\n",
      "55/55 [==============================] - 8s 139ms/step - loss: 0.3728 - accuracy: 0.8545 - val_loss: 0.4397 - val_accuracy: 0.8291\n",
      "Epoch 21/100\n",
      "55/55 [==============================] - 8s 137ms/step - loss: 0.3823 - accuracy: 0.8517 - val_loss: 0.3930 - val_accuracy: 0.8238\n",
      "Epoch 22/100\n",
      "55/55 [==============================] - 8s 142ms/step - loss: 0.3938 - accuracy: 0.8207 - val_loss: 0.3855 - val_accuracy: 0.8385\n",
      "Epoch 23/100\n",
      "55/55 [==============================] - 8s 146ms/step - loss: 0.3926 - accuracy: 0.8293 - val_loss: 0.4550 - val_accuracy: 0.7530\n",
      "Epoch 24/100\n",
      "55/55 [==============================] - 8s 141ms/step - loss: 0.3827 - accuracy: 0.8339 - val_loss: 0.4047 - val_accuracy: 0.8398\n",
      "Epoch 25/100\n",
      "55/55 [==============================] - 8s 139ms/step - loss: 0.4126 - accuracy: 0.8368 - val_loss: 0.4108 - val_accuracy: 0.8465\n",
      "Epoch 26/100\n",
      "55/55 [==============================] - 8s 138ms/step - loss: 0.3818 - accuracy: 0.8597 - val_loss: 0.5667 - val_accuracy: 0.6969\n",
      "Epoch 27/100\n",
      "55/55 [==============================] - 7s 134ms/step - loss: 0.3904 - accuracy: 0.8351 - val_loss: 0.6016 - val_accuracy: 0.6368\n"
     ]
    },
    {
     "data": {
      "text/plain": [
       "<keras.callbacks.History at 0x141615430>"
      ]
     },
     "execution_count": 50,
     "metadata": {},
     "output_type": "execute_result"
    }
   ],
   "source": [
    "from tensorflow.keras.callbacks import EarlyStopping\n",
    "\n",
    "es = EarlyStopping(patience=5, restore_best_weights=True)\n",
    "\n",
    "model.fit(X_train_pad, y_train, \n",
    "          batch_size = 32,\n",
    "          epochs=100,\n",
    "          validation_split=0.3,\n",
    "          callbacks=[es]\n",
    "         )"
   ]
  },
  {
   "cell_type": "code",
   "execution_count": 51,
   "id": "5bc09881",
   "metadata": {
    "ExecuteTime": {
     "end_time": "2022-06-02T16:26:06.714787Z",
     "start_time": "2022-06-02T16:26:05.693358Z"
    }
   },
   "outputs": [
    {
     "name": "stdout",
     "output_type": "stream",
     "text": [
      "The accuracy evaluated on the test set is of 81.869%\n"
     ]
    }
   ],
   "source": [
    "res = model.evaluate(X_test_pad, y_test, verbose=0)\n",
    "\n",
    "print(f'The accuracy evaluated on the test set is of {res[1]*100:.3f}%')"
   ]
  },
  {
   "cell_type": "code",
   "execution_count": 52,
   "id": "3a36bfa5",
   "metadata": {
    "ExecuteTime": {
     "end_time": "2022-06-03T07:02:18.324157Z",
     "start_time": "2022-06-03T07:02:18.003789Z"
    }
   },
   "outputs": [
    {
     "name": "stdout",
     "output_type": "stream",
     "text": [
      "['fasttext-wiki-news-subwords-300', 'conceptnet-numberbatch-17-06-300', 'word2vec-ruscorpora-300', 'word2vec-google-news-300', 'glove-wiki-gigaword-50', 'glove-wiki-gigaword-100', 'glove-wiki-gigaword-200', 'glove-wiki-gigaword-300', 'glove-twitter-25', 'glove-twitter-50', 'glove-twitter-100', 'glove-twitter-200', '__testing_word2vec-matrix-synopsis']\n"
     ]
    }
   ],
   "source": [
    "import gensim.downloader as api\n",
    "print(list(api.info()['models'].keys()))"
   ]
  },
  {
   "cell_type": "code",
   "execution_count": 54,
   "id": "fa41d154",
   "metadata": {
    "ExecuteTime": {
     "end_time": "2022-06-03T07:14:01.936168Z",
     "start_time": "2022-06-03T07:06:06.347324Z"
    }
   },
   "outputs": [
    {
     "name": "stdout",
     "output_type": "stream",
     "text": [
      "[=================================================-] 99.7% 374.9/376.1MB downloaded\n"
     ]
    }
   ],
   "source": [
    "word2vec_transfer = api.load(\"glove-wiki-gigaword-300\")"
   ]
  },
  {
   "cell_type": "code",
   "execution_count": 55,
   "id": "503af81a",
   "metadata": {
    "ExecuteTime": {
     "end_time": "2022-06-03T07:14:09.726979Z",
     "start_time": "2022-06-03T07:14:01.959775Z"
    }
   },
   "outputs": [],
   "source": [
    "from tensorflow.keras.preprocessing.sequence import pad_sequences\n",
    "import numpy as np\n",
    "\n",
    "# Function to convert a sentence (list of words) into a matrix representing the words in the embedding space\n",
    "def embed_sentence_with_TF(word2vec, sentence):\n",
    "    embedded_sentence = []\n",
    "    for word in sentence:\n",
    "        if word in word2vec:\n",
    "            embedded_sentence.append(word2vec[word])\n",
    "        \n",
    "    return np.array(embedded_sentence)\n",
    "\n",
    "# Function that converts a list of sentences into a list of matrices\n",
    "def embedding(word2vec, sentences):\n",
    "    embed = []\n",
    "    \n",
    "    for sentence in sentences:\n",
    "        embedded_sentence = embed_sentence_with_TF(word2vec, sentence)\n",
    "        embed.append(embedded_sentence)\n",
    "        \n",
    "    return embed\n",
    "\n",
    "# Embed the training and test sentences\n",
    "X_train_embed_2 = embedding(word2vec_transfer, X_train)\n",
    "X_test_embed_2 = embedding(word2vec_transfer, X_test)"
   ]
  },
  {
   "cell_type": "code",
   "execution_count": 56,
   "id": "4cb17ed7",
   "metadata": {
    "ExecuteTime": {
     "end_time": "2022-06-03T07:14:12.546946Z",
     "start_time": "2022-06-03T07:14:09.732672Z"
    }
   },
   "outputs": [],
   "source": [
    "# Pad the training and test embedded sentences\n",
    "X_train_pad_2 = pad_sequences(X_train_embed_2, dtype='float32', padding='post', maxlen=200)\n",
    "X_test_pad_2 = pad_sequences(X_test_embed_2, dtype='float32', padding='post', maxlen=200)"
   ]
  },
  {
   "cell_type": "code",
   "execution_count": 60,
   "id": "ffe216f9",
   "metadata": {
    "ExecuteTime": {
     "end_time": "2022-06-03T07:17:51.146337Z",
     "start_time": "2022-06-03T07:17:51.102247Z"
    }
   },
   "outputs": [],
   "source": [
    "from tensorflow.keras import Sequential\n",
    "from tensorflow.keras import layers\n",
    "\n",
    "def init_model():\n",
    "    model = Sequential()\n",
    "    model.add(layers.Masking())\n",
    "    model.add(layers.LSTM(20, activation='tanh'))\n",
    "    model.add(layers.Dense(15, activation='relu'))\n",
    "    model.add(layers.Dense(1, activation='sigmoid'))\n",
    "\n",
    "    model.compile(loss='binary_crossentropy',\n",
    "                  optimizer='rmsprop',\n",
    "                  metrics=['accuracy'])\n",
    "    \n",
    "    return model\n",
    "\n",
    "model_transfer = init_model()"
   ]
  },
  {
   "cell_type": "code",
   "execution_count": 61,
   "id": "352f70c6",
   "metadata": {
    "ExecuteTime": {
     "end_time": "2022-06-03T07:24:14.479431Z",
     "start_time": "2022-06-03T07:18:48.347474Z"
    }
   },
   "outputs": [
    {
     "name": "stdout",
     "output_type": "stream",
     "text": [
      "Epoch 1/100\n",
      "55/55 [==============================] - 25s 233ms/step - loss: 0.5598 - accuracy: 0.7491 - val_loss: 0.5153 - val_accuracy: 0.7717\n",
      "Epoch 2/100\n",
      "55/55 [==============================] - 15s 278ms/step - loss: 0.5315 - accuracy: 0.7583 - val_loss: 0.4966 - val_accuracy: 0.7797\n",
      "Epoch 3/100\n",
      "55/55 [==============================] - 11s 200ms/step - loss: 0.5062 - accuracy: 0.7738 - val_loss: 0.4894 - val_accuracy: 0.7797\n",
      "Epoch 4/100\n",
      "55/55 [==============================] - 10s 187ms/step - loss: 0.4855 - accuracy: 0.7904 - val_loss: 0.4278 - val_accuracy: 0.8224\n",
      "Epoch 5/100\n",
      "55/55 [==============================] - 11s 198ms/step - loss: 0.4538 - accuracy: 0.8007 - val_loss: 0.4168 - val_accuracy: 0.8331\n",
      "Epoch 6/100\n",
      "55/55 [==============================] - 12s 225ms/step - loss: 0.4231 - accuracy: 0.8173 - val_loss: 0.4388 - val_accuracy: 0.7877\n",
      "Epoch 7/100\n",
      "55/55 [==============================] - 11s 196ms/step - loss: 0.3952 - accuracy: 0.8247 - val_loss: 0.3554 - val_accuracy: 0.8625\n",
      "Epoch 8/100\n",
      "55/55 [==============================] - 10s 174ms/step - loss: 0.3610 - accuracy: 0.8511 - val_loss: 0.3358 - val_accuracy: 0.8772\n",
      "Epoch 9/100\n",
      "55/55 [==============================] - 12s 221ms/step - loss: 0.3521 - accuracy: 0.8574 - val_loss: 0.3920 - val_accuracy: 0.8304\n",
      "Epoch 10/100\n",
      "55/55 [==============================] - 14s 256ms/step - loss: 0.3176 - accuracy: 0.8769 - val_loss: 0.3149 - val_accuracy: 0.8879\n",
      "Epoch 11/100\n",
      "55/55 [==============================] - 19s 341ms/step - loss: 0.3145 - accuracy: 0.8740 - val_loss: 0.3228 - val_accuracy: 0.8665\n",
      "Epoch 12/100\n",
      "55/55 [==============================] - 11s 210ms/step - loss: 0.2951 - accuracy: 0.8895 - val_loss: 0.3068 - val_accuracy: 0.8785\n",
      "Epoch 13/100\n",
      "55/55 [==============================] - 14s 262ms/step - loss: 0.2691 - accuracy: 0.8969 - val_loss: 0.4167 - val_accuracy: 0.8438\n",
      "Epoch 14/100\n",
      "55/55 [==============================] - 15s 271ms/step - loss: 0.2573 - accuracy: 0.9072 - val_loss: 0.3267 - val_accuracy: 0.8638\n",
      "Epoch 15/100\n",
      "55/55 [==============================] - 14s 261ms/step - loss: 0.2454 - accuracy: 0.9066 - val_loss: 0.2614 - val_accuracy: 0.9079\n",
      "Epoch 16/100\n",
      "55/55 [==============================] - 14s 252ms/step - loss: 0.2211 - accuracy: 0.9227 - val_loss: 0.2478 - val_accuracy: 0.9025\n",
      "Epoch 17/100\n",
      "55/55 [==============================] - 16s 292ms/step - loss: 0.2047 - accuracy: 0.9244 - val_loss: 0.3102 - val_accuracy: 0.8959\n",
      "Epoch 18/100\n",
      "55/55 [==============================] - 14s 249ms/step - loss: 0.1917 - accuracy: 0.9318 - val_loss: 0.2181 - val_accuracy: 0.9199\n",
      "Epoch 19/100\n",
      "55/55 [==============================] - 12s 215ms/step - loss: 0.1745 - accuracy: 0.9387 - val_loss: 0.2777 - val_accuracy: 0.8798\n",
      "Epoch 20/100\n",
      "55/55 [==============================] - 11s 208ms/step - loss: 0.1734 - accuracy: 0.9404 - val_loss: 0.1996 - val_accuracy: 0.9292\n",
      "Epoch 21/100\n",
      "55/55 [==============================] - 11s 193ms/step - loss: 0.1586 - accuracy: 0.9410 - val_loss: 0.2000 - val_accuracy: 0.9279\n",
      "Epoch 22/100\n",
      "55/55 [==============================] - 11s 199ms/step - loss: 0.1566 - accuracy: 0.9416 - val_loss: 0.2370 - val_accuracy: 0.9092\n",
      "Epoch 23/100\n",
      "55/55 [==============================] - 12s 216ms/step - loss: 0.1503 - accuracy: 0.9467 - val_loss: 0.2286 - val_accuracy: 0.9279\n",
      "Epoch 24/100\n",
      "55/55 [==============================] - 11s 198ms/step - loss: 0.1267 - accuracy: 0.9553 - val_loss: 0.2421 - val_accuracy: 0.9052\n",
      "Epoch 25/100\n",
      "55/55 [==============================] - 11s 194ms/step - loss: 0.1156 - accuracy: 0.9605 - val_loss: 0.5675 - val_accuracy: 0.7744\n"
     ]
    }
   ],
   "source": [
    "from tensorflow.keras.callbacks import EarlyStopping\n",
    "\n",
    "es = EarlyStopping(patience=5, restore_best_weights=True)\n",
    "\n",
    "#model = init_model()\n",
    "\n",
    "history = model_transfer.fit(X_train_pad_2, y_train, \n",
    "          batch_size = 32,\n",
    "          epochs=100,\n",
    "          validation_split=0.3,\n",
    "          callbacks=[es]\n",
    "         )"
   ]
  },
  {
   "cell_type": "code",
   "execution_count": 63,
   "id": "c8e7d6d9",
   "metadata": {
    "ExecuteTime": {
     "end_time": "2022-06-03T07:28:11.775511Z",
     "start_time": "2022-06-03T07:28:10.124615Z"
    }
   },
   "outputs": [
    {
     "name": "stdout",
     "output_type": "stream",
     "text": [
      "The accuracy evaluated on the test set is of 91.121%\n"
     ]
    }
   ],
   "source": [
    "res_transfer = model_transfer.evaluate(X_test_pad_2, y_test, verbose=0)\n",
    "\n",
    "print(f'The accuracy evaluated on the test set is of {res_transfer[1]*100:.3f}%')"
   ]
  },
  {
   "cell_type": "code",
   "execution_count": null,
   "id": "9396ad36",
   "metadata": {},
   "outputs": [],
   "source": []
  }
 ],
 "metadata": {
  "kernelspec": {
   "display_name": "Python 3 (ipykernel)",
   "language": "python",
   "name": "python3"
  },
  "language_info": {
   "codemirror_mode": {
    "name": "ipython",
    "version": 3
   },
   "file_extension": ".py",
   "mimetype": "text/x-python",
   "name": "python",
   "nbconvert_exporter": "python",
   "pygments_lexer": "ipython3",
   "version": "3.8.13"
  },
  "toc": {
   "base_numbering": 1,
   "nav_menu": {},
   "number_sections": true,
   "sideBar": true,
   "skip_h1_title": false,
   "title_cell": "Table of Contents",
   "title_sidebar": "Contents",
   "toc_cell": false,
   "toc_position": {},
   "toc_section_display": true,
   "toc_window_display": false
  }
 },
 "nbformat": 4,
 "nbformat_minor": 5
}
